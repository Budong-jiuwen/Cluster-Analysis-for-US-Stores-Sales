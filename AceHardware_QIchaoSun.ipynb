{
 "cells": [
  {
   "cell_type": "markdown",
   "id": "d83ad8b2-d113-4b5b-bf02-0b83e930ee2b",
   "metadata": {},
   "source": [
    "<h1 style=\"text-align: center;\">Data Scientist Technical Assessment</h1>\n",
    "<h1 style=\"text-align: center;\">Ace Hardware Corporation</h1>"
   ]
  },
  {
   "cell_type": "markdown",
   "id": "f973a9b9-1700-4721-ac88-a1ff013f77f7",
   "metadata": {},
   "source": [
    "<div style=\"text-align: center\"> By Qichao Sun </div>"
   ]
  },
  {
   "cell_type": "markdown",
   "id": "593d246e-efc7-45ff-b007-f88176e6a6bb",
   "metadata": {},
   "source": [
    "# 1. Environment Preparation"
   ]
  },
  {
   "cell_type": "code",
   "execution_count": 1,
   "id": "ab71ee61-7e17-43e8-a21d-e41d11d4d234",
   "metadata": {},
   "outputs": [],
   "source": [
    "import numpy as np\n",
    "import pandas as pd\n",
    "import matplotlib\n",
    "from matplotlib import pyplot as plt\n",
    "import sklearn\n",
    "from sklearn.preprocessing import MinMaxScaler\n",
    "from sklearn.decomposition import PCA\n",
    "from sklearn.cluster import KMeans\n",
    "import seaborn as sns"
   ]
  },
  {
   "cell_type": "code",
   "execution_count": 2,
   "id": "ee9ad1d4-ce34-4bb2-a73a-9ea6e4b3c979",
   "metadata": {},
   "outputs": [
    {
     "name": "stdout",
     "output_type": "stream",
     "text": [
      "The numpy version is 1.20.1.\n",
      "The pandas version is 1.4.2.\n",
      "The matplotlib version is 3.5.2.\n",
      "The scikit-learn version is 1.2.2.\n",
      "The seaborn version is 0.11.2.\n"
     ]
    }
   ],
   "source": [
    "print('The numpy version is {}.'.format(np.__version__))\n",
    "print('The pandas version is {}.'.format(pd.__version__))\n",
    "print('The matplotlib version is {}.'.format(matplotlib.__version__))\n",
    "print('The scikit-learn version is {}.'.format(sklearn.__version__))\n",
    "print('The seaborn version is {}.'.format(sns.__version__))"
   ]
  },
  {
   "cell_type": "code",
   "execution_count": 3,
   "id": "3b5cf971-a94d-4c19-93fa-78ca9dfc480e",
   "metadata": {},
   "outputs": [
    {
     "name": "stdout",
     "output_type": "stream",
     "text": [
      "pipreqs  --force .\n",
      "INFO: Successfully saved requirements file in ./requirements.txt\n"
     ]
    }
   ],
   "source": [
    "!pipreqsnb . --force"
   ]
  },
  {
   "cell_type": "code",
   "execution_count": 4,
   "id": "2d0a3c90-6d54-4c6a-9191-58a9e7d93e25",
   "metadata": {
    "tags": []
   },
   "outputs": [
    {
     "name": "stdout",
     "output_type": "stream",
     "text": [
      "/Users/qsun/My Drive/Hunting/Records/ACE Hardware\n"
     ]
    }
   ],
   "source": [
    "!pwd"
   ]
  },
  {
   "cell_type": "markdown",
   "id": "6696c7f8-a92a-452f-abf2-cb261670157d",
   "metadata": {},
   "source": [
    "# 2. Read in Data"
   ]
  },
  {
   "cell_type": "code",
   "execution_count": 5,
   "id": "b0451c9e-1daf-4286-a2ab-6c6a90a3cc5e",
   "metadata": {},
   "outputs": [
    {
     "name": "stdout",
     "output_type": "stream",
     "text": [
      "/Users/qsun/My Drive/Hunting/Records/ACE Hardware\n"
     ]
    }
   ],
   "source": [
    "!pwd\n",
    "# Check the present working directory "
   ]
  },
  {
   "cell_type": "code",
   "execution_count": 6,
   "id": "ede06dee-11ed-4ec9-a212-fb8c66b8e551",
   "metadata": {},
   "outputs": [
    {
     "data": {
      "text/html": [
       "<div>\n",
       "<style scoped>\n",
       "    .dataframe tbody tr th:only-of-type {\n",
       "        vertical-align: middle;\n",
       "    }\n",
       "\n",
       "    .dataframe tbody tr th {\n",
       "        vertical-align: top;\n",
       "    }\n",
       "\n",
       "    .dataframe thead th {\n",
       "        text-align: right;\n",
       "    }\n",
       "</style>\n",
       "<table border=\"1\" class=\"dataframe\">\n",
       "  <thead>\n",
       "    <tr style=\"text-align: right;\">\n",
       "      <th></th>\n",
       "      <th>Area Code</th>\n",
       "      <th>State</th>\n",
       "      <th>Market</th>\n",
       "      <th>Market Size</th>\n",
       "      <th>Profit</th>\n",
       "      <th>Margin</th>\n",
       "      <th>Sales</th>\n",
       "      <th>COGS</th>\n",
       "      <th>Total Expenses</th>\n",
       "      <th>Marketing</th>\n",
       "      <th>Inventory</th>\n",
       "      <th>Budget Profit</th>\n",
       "      <th>Budget COGS</th>\n",
       "      <th>Budget Margin</th>\n",
       "      <th>Budget Sales</th>\n",
       "      <th>ProductId</th>\n",
       "      <th>Date</th>\n",
       "      <th>Product Type</th>\n",
       "      <th>Product</th>\n",
       "      <th>Type</th>\n",
       "    </tr>\n",
       "  </thead>\n",
       "  <tbody>\n",
       "    <tr>\n",
       "      <th>0</th>\n",
       "      <td>203</td>\n",
       "      <td>Connecticut</td>\n",
       "      <td>East</td>\n",
       "      <td>Small Market</td>\n",
       "      <td>107</td>\n",
       "      <td>176</td>\n",
       "      <td>292</td>\n",
       "      <td>116</td>\n",
       "      <td>69</td>\n",
       "      <td>38</td>\n",
       "      <td>962</td>\n",
       "      <td>110</td>\n",
       "      <td>110</td>\n",
       "      <td>160</td>\n",
       "      <td>270</td>\n",
       "      <td>2</td>\n",
       "      <td>4/1/10 0:00</td>\n",
       "      <td>Coffee</td>\n",
       "      <td>Columbian</td>\n",
       "      <td>Regular</td>\n",
       "    </tr>\n",
       "    <tr>\n",
       "      <th>1</th>\n",
       "      <td>203</td>\n",
       "      <td>Connecticut</td>\n",
       "      <td>East</td>\n",
       "      <td>Small Market</td>\n",
       "      <td>75</td>\n",
       "      <td>135</td>\n",
       "      <td>225</td>\n",
       "      <td>90</td>\n",
       "      <td>60</td>\n",
       "      <td>29</td>\n",
       "      <td>1148</td>\n",
       "      <td>90</td>\n",
       "      <td>80</td>\n",
       "      <td>130</td>\n",
       "      <td>210</td>\n",
       "      <td>2</td>\n",
       "      <td>7/1/10 0:00</td>\n",
       "      <td>Coffee</td>\n",
       "      <td>Columbian</td>\n",
       "      <td>Regular</td>\n",
       "    </tr>\n",
       "    <tr>\n",
       "      <th>2</th>\n",
       "      <td>203</td>\n",
       "      <td>Connecticut</td>\n",
       "      <td>East</td>\n",
       "      <td>Small Market</td>\n",
       "      <td>122</td>\n",
       "      <td>195</td>\n",
       "      <td>325</td>\n",
       "      <td>130</td>\n",
       "      <td>73</td>\n",
       "      <td>42</td>\n",
       "      <td>1134</td>\n",
       "      <td>130</td>\n",
       "      <td>110</td>\n",
       "      <td>180</td>\n",
       "      <td>290</td>\n",
       "      <td>2</td>\n",
       "      <td>11/1/10 0:00</td>\n",
       "      <td>Coffee</td>\n",
       "      <td>Columbian</td>\n",
       "      <td>Regular</td>\n",
       "    </tr>\n",
       "    <tr>\n",
       "      <th>3</th>\n",
       "      <td>203</td>\n",
       "      <td>Connecticut</td>\n",
       "      <td>East</td>\n",
       "      <td>Small Market</td>\n",
       "      <td>105</td>\n",
       "      <td>174</td>\n",
       "      <td>289</td>\n",
       "      <td>115</td>\n",
       "      <td>69</td>\n",
       "      <td>37</td>\n",
       "      <td>1166</td>\n",
       "      <td>110</td>\n",
       "      <td>100</td>\n",
       "      <td>160</td>\n",
       "      <td>260</td>\n",
       "      <td>2</td>\n",
       "      <td>12/1/10 0:00</td>\n",
       "      <td>Coffee</td>\n",
       "      <td>Columbian</td>\n",
       "      <td>Regular</td>\n",
       "    </tr>\n",
       "    <tr>\n",
       "      <th>4</th>\n",
       "      <td>203</td>\n",
       "      <td>Connecticut</td>\n",
       "      <td>East</td>\n",
       "      <td>Small Market</td>\n",
       "      <td>104</td>\n",
       "      <td>135</td>\n",
       "      <td>223</td>\n",
       "      <td>90</td>\n",
       "      <td>56</td>\n",
       "      <td>29</td>\n",
       "      <td>1148</td>\n",
       "      <td>90</td>\n",
       "      <td>80</td>\n",
       "      <td>130</td>\n",
       "      <td>210</td>\n",
       "      <td>2</td>\n",
       "      <td>7/1/11 0:00</td>\n",
       "      <td>Coffee</td>\n",
       "      <td>Columbian</td>\n",
       "      <td>Regular</td>\n",
       "    </tr>\n",
       "  </tbody>\n",
       "</table>\n",
       "</div>"
      ],
      "text/plain": [
       "   Area Code        State Market   Market Size  Profit  Margin  Sales  COGS  \\\n",
       "0        203  Connecticut   East  Small Market     107     176    292   116   \n",
       "1        203  Connecticut   East  Small Market      75     135    225    90   \n",
       "2        203  Connecticut   East  Small Market     122     195    325   130   \n",
       "3        203  Connecticut   East  Small Market     105     174    289   115   \n",
       "4        203  Connecticut   East  Small Market     104     135    223    90   \n",
       "\n",
       "   Total Expenses  Marketing  Inventory  Budget Profit  Budget COGS  \\\n",
       "0              69         38        962            110          110   \n",
       "1              60         29       1148             90           80   \n",
       "2              73         42       1134            130          110   \n",
       "3              69         37       1166            110          100   \n",
       "4              56         29       1148             90           80   \n",
       "\n",
       "   Budget Margin  Budget Sales  ProductId          Date Product Type  \\\n",
       "0            160           270          2   4/1/10 0:00       Coffee   \n",
       "1            130           210          2   7/1/10 0:00       Coffee   \n",
       "2            180           290          2  11/1/10 0:00       Coffee   \n",
       "3            160           260          2  12/1/10 0:00       Coffee   \n",
       "4            130           210          2   7/1/11 0:00       Coffee   \n",
       "\n",
       "     Product     Type  \n",
       "0  Columbian  Regular  \n",
       "1  Columbian  Regular  \n",
       "2  Columbian  Regular  \n",
       "3  Columbian  Regular  \n",
       "4  Columbian  Regular  "
      ]
     },
     "execution_count": 6,
     "metadata": {},
     "output_type": "execute_result"
    }
   ],
   "source": [
    "df = pd.read_csv(\"./sales.csv\")\n",
    "# read in data from the pwd\n",
    "df.head()"
   ]
  },
  {
   "cell_type": "markdown",
   "id": "56a2ca3e-2498-4df1-a776-b504ae3364cd",
   "metadata": {},
   "source": [
    "# 3. Data Clean"
   ]
  },
  {
   "cell_type": "code",
   "execution_count": 7,
   "id": "41e34cd4-de2c-4899-bec5-60332fddb97c",
   "metadata": {},
   "outputs": [
    {
     "name": "stdout",
     "output_type": "stream",
     "text": [
      "<class 'pandas.core.frame.DataFrame'>\n",
      "RangeIndex: 4248 entries, 0 to 4247\n",
      "Data columns (total 20 columns):\n",
      " #   Column          Non-Null Count  Dtype \n",
      "---  ------          --------------  ----- \n",
      " 0   Area Code       4248 non-null   int64 \n",
      " 1   State           4248 non-null   object\n",
      " 2   Market          4248 non-null   object\n",
      " 3   Market Size     4248 non-null   object\n",
      " 4   Profit          4248 non-null   int64 \n",
      " 5   Margin          4248 non-null   int64 \n",
      " 6   Sales           4248 non-null   int64 \n",
      " 7   COGS            4248 non-null   int64 \n",
      " 8   Total Expenses  4248 non-null   int64 \n",
      " 9   Marketing       4248 non-null   int64 \n",
      " 10  Inventory       4248 non-null   int64 \n",
      " 11  Budget Profit   4248 non-null   int64 \n",
      " 12  Budget COGS     4248 non-null   int64 \n",
      " 13  Budget Margin   4248 non-null   int64 \n",
      " 14  Budget Sales    4248 non-null   int64 \n",
      " 15  ProductId       4248 non-null   int64 \n",
      " 16  Date            4248 non-null   object\n",
      " 17  Product Type    4248 non-null   object\n",
      " 18  Product         4248 non-null   object\n",
      " 19  Type            4248 non-null   object\n",
      "dtypes: int64(13), object(7)\n",
      "memory usage: 663.9+ KB\n"
     ]
    }
   ],
   "source": [
    "df.info()  \n",
    "# check data type for each column\n",
    "# check data null values"
   ]
  },
  {
   "cell_type": "code",
   "execution_count": 8,
   "id": "18797f27-d6f8-4386-ba16-93bf4c853929",
   "metadata": {},
   "outputs": [
    {
     "data": {
      "text/plain": [
       "Area Code         0\n",
       "State             0\n",
       "Market            0\n",
       "Market Size       0\n",
       "Profit            0\n",
       "Margin            0\n",
       "Sales             0\n",
       "COGS              0\n",
       "Total Expenses    0\n",
       "Marketing         0\n",
       "Inventory         0\n",
       "Budget Profit     0\n",
       "Budget COGS       0\n",
       "Budget Margin     0\n",
       "Budget Sales      0\n",
       "ProductId         0\n",
       "Date              0\n",
       "Product Type      0\n",
       "Product           0\n",
       "Type              0\n",
       "dtype: int64"
      ]
     },
     "execution_count": 8,
     "metadata": {},
     "output_type": "execute_result"
    }
   ],
   "source": [
    "df.isnull().sum()\n",
    "# check if data have null values; if so, we need to do imputation."
   ]
  },
  {
   "cell_type": "code",
   "execution_count": 9,
   "id": "09652095-aa4e-4f16-a73b-45ec41dd252f",
   "metadata": {},
   "outputs": [
    {
     "data": {
      "text/plain": [
       "0"
      ]
     },
     "execution_count": 9,
     "metadata": {},
     "output_type": "execute_result"
    }
   ],
   "source": [
    "df.duplicated().sum()\n",
    "# check if there's any duplicate rows; if so, we need to dedup."
   ]
  },
  {
   "cell_type": "markdown",
   "id": "d529617d-409a-40e5-ad96-8613806d6ca2",
   "metadata": {},
   "source": [
    "### Correct calculation error"
   ]
  },
  {
   "cell_type": "code",
   "execution_count": 10,
   "id": "0d8c2193-8172-40be-9657-705fb259c76e",
   "metadata": {},
   "outputs": [
    {
     "name": "stdout",
     "output_type": "stream",
     "text": [
      "2105\n",
      "2088\n"
     ]
    }
   ],
   "source": [
    "# According to the document, Margin = Profit + Total Expenses OR Margin = Sales - COGS ($)\n",
    "# We need to make sure the data in the table aligned with the documents\n",
    "\n",
    "print(df[df['Profit'] + df['Total Expenses'] != df['Margin']].shape[0])\n",
    "print(df[df['Sales'] - df['COGS'] != df['Margin']].shape[0])"
   ]
  },
  {
   "cell_type": "markdown",
   "id": "e2f7814c-e636-43b1-914b-0ef8c43a40c8",
   "metadata": {},
   "source": [
    "Since the number in the table doesn't match the dictionary, we need to recalculate the number.  Here we assume variables Sales, COGS, Total Expenses are correct, because they are actual numbers collected directly and less likely to make mistakes compared to calculated profit and margin."
   ]
  },
  {
   "cell_type": "code",
   "execution_count": 11,
   "id": "a4df3511-47f1-48ff-8a66-d5d27c9ec77c",
   "metadata": {},
   "outputs": [],
   "source": [
    "# Obviously, the profit and margin number for some records do not match with the document.\n",
    "# There are 2105 records that don't fit Margin = Profit + Total Expenses and 2088 records that don't fit Margin = Sales - COGS ($).\n",
    "# So we have to rely on some features and correct others.\n",
    "# In this situation, since numbers in profit and margin are calculated, they are more likely to get wrong.  \n",
    "# So here I assume features Sales, COGS, Total Expenses are correct and then re-calculate profit and margin.\n",
    "# The corrected features are profit_new and margin_new."
   ]
  },
  {
   "cell_type": "code",
   "execution_count": 12,
   "id": "1d230030-b907-43fd-8667-e28bd1f33079",
   "metadata": {},
   "outputs": [
    {
     "data": {
      "text/html": [
       "<div>\n",
       "<style scoped>\n",
       "    .dataframe tbody tr th:only-of-type {\n",
       "        vertical-align: middle;\n",
       "    }\n",
       "\n",
       "    .dataframe tbody tr th {\n",
       "        vertical-align: top;\n",
       "    }\n",
       "\n",
       "    .dataframe thead th {\n",
       "        text-align: right;\n",
       "    }\n",
       "</style>\n",
       "<table border=\"1\" class=\"dataframe\">\n",
       "  <thead>\n",
       "    <tr style=\"text-align: right;\">\n",
       "      <th></th>\n",
       "      <th>Area Code</th>\n",
       "      <th>State</th>\n",
       "      <th>Market</th>\n",
       "      <th>Market Size</th>\n",
       "      <th>Sales</th>\n",
       "      <th>COGS</th>\n",
       "      <th>Total Expenses</th>\n",
       "      <th>Marketing</th>\n",
       "      <th>Inventory</th>\n",
       "      <th>Budget Profit</th>\n",
       "      <th>Budget COGS</th>\n",
       "      <th>Budget Margin</th>\n",
       "      <th>Budget Sales</th>\n",
       "      <th>ProductId</th>\n",
       "      <th>Date</th>\n",
       "      <th>Product Type</th>\n",
       "      <th>Product</th>\n",
       "      <th>Type</th>\n",
       "      <th>Margin_new</th>\n",
       "      <th>Profit_new</th>\n",
       "    </tr>\n",
       "  </thead>\n",
       "  <tbody>\n",
       "    <tr>\n",
       "      <th>0</th>\n",
       "      <td>203</td>\n",
       "      <td>Connecticut</td>\n",
       "      <td>East</td>\n",
       "      <td>Small Market</td>\n",
       "      <td>292</td>\n",
       "      <td>116</td>\n",
       "      <td>69</td>\n",
       "      <td>38</td>\n",
       "      <td>962</td>\n",
       "      <td>110</td>\n",
       "      <td>110</td>\n",
       "      <td>160</td>\n",
       "      <td>270</td>\n",
       "      <td>2</td>\n",
       "      <td>4/1/10 0:00</td>\n",
       "      <td>Coffee</td>\n",
       "      <td>Columbian</td>\n",
       "      <td>Regular</td>\n",
       "      <td>176</td>\n",
       "      <td>107</td>\n",
       "    </tr>\n",
       "    <tr>\n",
       "      <th>1</th>\n",
       "      <td>203</td>\n",
       "      <td>Connecticut</td>\n",
       "      <td>East</td>\n",
       "      <td>Small Market</td>\n",
       "      <td>225</td>\n",
       "      <td>90</td>\n",
       "      <td>60</td>\n",
       "      <td>29</td>\n",
       "      <td>1148</td>\n",
       "      <td>90</td>\n",
       "      <td>80</td>\n",
       "      <td>130</td>\n",
       "      <td>210</td>\n",
       "      <td>2</td>\n",
       "      <td>7/1/10 0:00</td>\n",
       "      <td>Coffee</td>\n",
       "      <td>Columbian</td>\n",
       "      <td>Regular</td>\n",
       "      <td>135</td>\n",
       "      <td>75</td>\n",
       "    </tr>\n",
       "    <tr>\n",
       "      <th>2</th>\n",
       "      <td>203</td>\n",
       "      <td>Connecticut</td>\n",
       "      <td>East</td>\n",
       "      <td>Small Market</td>\n",
       "      <td>325</td>\n",
       "      <td>130</td>\n",
       "      <td>73</td>\n",
       "      <td>42</td>\n",
       "      <td>1134</td>\n",
       "      <td>130</td>\n",
       "      <td>110</td>\n",
       "      <td>180</td>\n",
       "      <td>290</td>\n",
       "      <td>2</td>\n",
       "      <td>11/1/10 0:00</td>\n",
       "      <td>Coffee</td>\n",
       "      <td>Columbian</td>\n",
       "      <td>Regular</td>\n",
       "      <td>195</td>\n",
       "      <td>122</td>\n",
       "    </tr>\n",
       "    <tr>\n",
       "      <th>3</th>\n",
       "      <td>203</td>\n",
       "      <td>Connecticut</td>\n",
       "      <td>East</td>\n",
       "      <td>Small Market</td>\n",
       "      <td>289</td>\n",
       "      <td>115</td>\n",
       "      <td>69</td>\n",
       "      <td>37</td>\n",
       "      <td>1166</td>\n",
       "      <td>110</td>\n",
       "      <td>100</td>\n",
       "      <td>160</td>\n",
       "      <td>260</td>\n",
       "      <td>2</td>\n",
       "      <td>12/1/10 0:00</td>\n",
       "      <td>Coffee</td>\n",
       "      <td>Columbian</td>\n",
       "      <td>Regular</td>\n",
       "      <td>174</td>\n",
       "      <td>105</td>\n",
       "    </tr>\n",
       "    <tr>\n",
       "      <th>4</th>\n",
       "      <td>203</td>\n",
       "      <td>Connecticut</td>\n",
       "      <td>East</td>\n",
       "      <td>Small Market</td>\n",
       "      <td>223</td>\n",
       "      <td>90</td>\n",
       "      <td>56</td>\n",
       "      <td>29</td>\n",
       "      <td>1148</td>\n",
       "      <td>90</td>\n",
       "      <td>80</td>\n",
       "      <td>130</td>\n",
       "      <td>210</td>\n",
       "      <td>2</td>\n",
       "      <td>7/1/11 0:00</td>\n",
       "      <td>Coffee</td>\n",
       "      <td>Columbian</td>\n",
       "      <td>Regular</td>\n",
       "      <td>133</td>\n",
       "      <td>77</td>\n",
       "    </tr>\n",
       "  </tbody>\n",
       "</table>\n",
       "</div>"
      ],
      "text/plain": [
       "   Area Code        State Market   Market Size  Sales  COGS  Total Expenses  \\\n",
       "0        203  Connecticut   East  Small Market    292   116              69   \n",
       "1        203  Connecticut   East  Small Market    225    90              60   \n",
       "2        203  Connecticut   East  Small Market    325   130              73   \n",
       "3        203  Connecticut   East  Small Market    289   115              69   \n",
       "4        203  Connecticut   East  Small Market    223    90              56   \n",
       "\n",
       "   Marketing  Inventory  Budget Profit  Budget COGS  Budget Margin  \\\n",
       "0         38        962            110          110            160   \n",
       "1         29       1148             90           80            130   \n",
       "2         42       1134            130          110            180   \n",
       "3         37       1166            110          100            160   \n",
       "4         29       1148             90           80            130   \n",
       "\n",
       "   Budget Sales  ProductId          Date Product Type    Product     Type  \\\n",
       "0           270          2   4/1/10 0:00       Coffee  Columbian  Regular   \n",
       "1           210          2   7/1/10 0:00       Coffee  Columbian  Regular   \n",
       "2           290          2  11/1/10 0:00       Coffee  Columbian  Regular   \n",
       "3           260          2  12/1/10 0:00       Coffee  Columbian  Regular   \n",
       "4           210          2   7/1/11 0:00       Coffee  Columbian  Regular   \n",
       "\n",
       "   Margin_new  Profit_new  \n",
       "0         176         107  \n",
       "1         135          75  \n",
       "2         195         122  \n",
       "3         174         105  \n",
       "4         133          77  "
      ]
     },
     "execution_count": 12,
     "metadata": {},
     "output_type": "execute_result"
    }
   ],
   "source": [
    "df0 = df.copy()\n",
    "\n",
    "df0['Margin_new'] = df0['Sales'] - df0['COGS']\n",
    "# Re-calculate Margin, named Margin_new\n",
    "df0['Profit_new'] = df0['Margin_new'] - df0['Total Expenses']\n",
    "# Re-calculate Profit, named Profit_new\n",
    "\n",
    "df0.drop(['Margin','Profit'], axis =1, inplace = True )\n",
    "# Drop the original columns\n",
    "df0.head()\n"
   ]
  },
  {
   "cell_type": "markdown",
   "id": "2a74ec3f-c44b-4eef-9542-2f1bde96d0b2",
   "metadata": {},
   "source": [
    "# 4. Information Extraction"
   ]
  },
  {
   "cell_type": "markdown",
   "id": "8fc6e78e-490b-4015-8812-ae8018910c09",
   "metadata": {},
   "source": [
    "## 4.1 Product Information"
   ]
  },
  {
   "cell_type": "code",
   "execution_count": 13,
   "id": "c56ac3f1-f011-49d9-a963-c8e9afb6967c",
   "metadata": {},
   "outputs": [
    {
     "data": {
      "text/html": [
       "<div>\n",
       "<style scoped>\n",
       "    .dataframe tbody tr th:only-of-type {\n",
       "        vertical-align: middle;\n",
       "    }\n",
       "\n",
       "    .dataframe tbody tr th {\n",
       "        vertical-align: top;\n",
       "    }\n",
       "\n",
       "    .dataframe thead th {\n",
       "        text-align: right;\n",
       "    }\n",
       "</style>\n",
       "<table border=\"1\" class=\"dataframe\">\n",
       "  <thead>\n",
       "    <tr style=\"text-align: right;\">\n",
       "      <th></th>\n",
       "      <th>Product Type</th>\n",
       "      <th>Product</th>\n",
       "      <th>Type</th>\n",
       "    </tr>\n",
       "    <tr>\n",
       "      <th>ProductId</th>\n",
       "      <th></th>\n",
       "      <th></th>\n",
       "      <th></th>\n",
       "    </tr>\n",
       "  </thead>\n",
       "  <tbody>\n",
       "    <tr>\n",
       "      <th>1</th>\n",
       "      <td>Coffee</td>\n",
       "      <td>Amaretto</td>\n",
       "      <td>Regular</td>\n",
       "    </tr>\n",
       "    <tr>\n",
       "      <th>2</th>\n",
       "      <td>Coffee</td>\n",
       "      <td>Columbian</td>\n",
       "      <td>Regular</td>\n",
       "    </tr>\n",
       "    <tr>\n",
       "      <th>3</th>\n",
       "      <td>Coffee</td>\n",
       "      <td>Decaf Irish Cream</td>\n",
       "      <td>Decaf</td>\n",
       "    </tr>\n",
       "    <tr>\n",
       "      <th>4</th>\n",
       "      <td>Espresso</td>\n",
       "      <td>Caffe Latte</td>\n",
       "      <td>Regular</td>\n",
       "    </tr>\n",
       "    <tr>\n",
       "      <th>5</th>\n",
       "      <td>Espresso</td>\n",
       "      <td>Caffe Mocha</td>\n",
       "      <td>Regular</td>\n",
       "    </tr>\n",
       "    <tr>\n",
       "      <th>6</th>\n",
       "      <td>Espresso</td>\n",
       "      <td>Decaf Espresso</td>\n",
       "      <td>Decaf</td>\n",
       "    </tr>\n",
       "    <tr>\n",
       "      <th>7</th>\n",
       "      <td>Espresso</td>\n",
       "      <td>Regular Espresso</td>\n",
       "      <td>Regular</td>\n",
       "    </tr>\n",
       "    <tr>\n",
       "      <th>8</th>\n",
       "      <td>Herbal Tea</td>\n",
       "      <td>Chamomile</td>\n",
       "      <td>Decaf</td>\n",
       "    </tr>\n",
       "    <tr>\n",
       "      <th>9</th>\n",
       "      <td>Herbal Tea</td>\n",
       "      <td>Lemon</td>\n",
       "      <td>Decaf</td>\n",
       "    </tr>\n",
       "    <tr>\n",
       "      <th>10</th>\n",
       "      <td>Herbal Tea</td>\n",
       "      <td>Mint</td>\n",
       "      <td>Decaf</td>\n",
       "    </tr>\n",
       "    <tr>\n",
       "      <th>11</th>\n",
       "      <td>Tea</td>\n",
       "      <td>Darjeeling</td>\n",
       "      <td>Regular</td>\n",
       "    </tr>\n",
       "    <tr>\n",
       "      <th>12</th>\n",
       "      <td>Tea</td>\n",
       "      <td>Earl Grey</td>\n",
       "      <td>Regular</td>\n",
       "    </tr>\n",
       "    <tr>\n",
       "      <th>13</th>\n",
       "      <td>Tea</td>\n",
       "      <td>Green Tea</td>\n",
       "      <td>Regular</td>\n",
       "    </tr>\n",
       "  </tbody>\n",
       "</table>\n",
       "</div>"
      ],
      "text/plain": [
       "          Product Type            Product     Type\n",
       "ProductId                                         \n",
       "1               Coffee           Amaretto  Regular\n",
       "2               Coffee          Columbian  Regular\n",
       "3               Coffee  Decaf Irish Cream    Decaf\n",
       "4             Espresso        Caffe Latte  Regular\n",
       "5             Espresso        Caffe Mocha  Regular\n",
       "6             Espresso     Decaf Espresso    Decaf\n",
       "7             Espresso   Regular Espresso  Regular\n",
       "8           Herbal Tea          Chamomile    Decaf\n",
       "9           Herbal Tea              Lemon    Decaf\n",
       "10          Herbal Tea               Mint    Decaf\n",
       "11                 Tea         Darjeeling  Regular\n",
       "12                 Tea          Earl Grey  Regular\n",
       "13                 Tea          Green Tea  Regular"
      ]
     },
     "execution_count": 13,
     "metadata": {},
     "output_type": "execute_result"
    }
   ],
   "source": [
    "product = df0[['ProductId','Product Type','Product','Type']].drop_duplicates().sort_values(by=['ProductId']).set_index('ProductId')\n",
    "product\n",
    "# product table shows each product's detail and serves as a SKU table"
   ]
  },
  {
   "cell_type": "markdown",
   "id": "db40676e-78a7-4de9-b176-71394e0dc5ab",
   "metadata": {},
   "source": [
    "## 4.2 Area Information"
   ]
  },
  {
   "cell_type": "code",
   "execution_count": 14,
   "id": "7a8c2243-0e5f-46f9-a893-e8721b758b21",
   "metadata": {},
   "outputs": [
    {
     "data": {
      "text/html": [
       "<div>\n",
       "<style scoped>\n",
       "    .dataframe tbody tr th:only-of-type {\n",
       "        vertical-align: middle;\n",
       "    }\n",
       "\n",
       "    .dataframe tbody tr th {\n",
       "        vertical-align: top;\n",
       "    }\n",
       "\n",
       "    .dataframe thead th {\n",
       "        text-align: right;\n",
       "    }\n",
       "</style>\n",
       "<table border=\"1\" class=\"dataframe\">\n",
       "  <thead>\n",
       "    <tr style=\"text-align: right;\">\n",
       "      <th></th>\n",
       "      <th>Area Code</th>\n",
       "      <th>State</th>\n",
       "      <th>Market</th>\n",
       "      <th>Market Size</th>\n",
       "    </tr>\n",
       "  </thead>\n",
       "  <tbody>\n",
       "    <tr>\n",
       "      <th>0</th>\n",
       "      <td>203</td>\n",
       "      <td>Connecticut</td>\n",
       "      <td>East</td>\n",
       "      <td>Small Market</td>\n",
       "    </tr>\n",
       "    <tr>\n",
       "      <th>1</th>\n",
       "      <td>206</td>\n",
       "      <td>Washington</td>\n",
       "      <td>West</td>\n",
       "      <td>Small Market</td>\n",
       "    </tr>\n",
       "    <tr>\n",
       "      <th>2</th>\n",
       "      <td>209</td>\n",
       "      <td>California</td>\n",
       "      <td>West</td>\n",
       "      <td>Major Market</td>\n",
       "    </tr>\n",
       "    <tr>\n",
       "      <th>3</th>\n",
       "      <td>210</td>\n",
       "      <td>Texas</td>\n",
       "      <td>South</td>\n",
       "      <td>Major Market</td>\n",
       "    </tr>\n",
       "    <tr>\n",
       "      <th>4</th>\n",
       "      <td>212</td>\n",
       "      <td>New York</td>\n",
       "      <td>East</td>\n",
       "      <td>Major Market</td>\n",
       "    </tr>\n",
       "  </tbody>\n",
       "</table>\n",
       "</div>"
      ],
      "text/plain": [
       "   Area Code        State Market   Market Size\n",
       "0        203  Connecticut   East  Small Market\n",
       "1        206   Washington   West  Small Market\n",
       "2        209   California   West  Major Market\n",
       "3        210        Texas  South  Major Market\n",
       "4        212     New York   East  Major Market"
      ]
     },
     "execution_count": 14,
     "metadata": {},
     "output_type": "execute_result"
    }
   ],
   "source": [
    "area_code = df0[['Area Code','State','Market','Market Size']].drop_duplicates().sort_values(by=['Area Code']).reset_index(drop=True)\n",
    "area_code.head()\n",
    "# area_code table is an area dictionary for Area Code, State, Market and its Market Size"
   ]
  },
  {
   "cell_type": "code",
   "execution_count": 15,
   "id": "e6a40a52-c764-4098-bc13-025a31cbafb3",
   "metadata": {},
   "outputs": [
    {
     "data": {
      "text/html": [
       "<div>\n",
       "<style scoped>\n",
       "    .dataframe tbody tr th:only-of-type {\n",
       "        vertical-align: middle;\n",
       "    }\n",
       "\n",
       "    .dataframe tbody tr th {\n",
       "        vertical-align: top;\n",
       "    }\n",
       "\n",
       "    .dataframe thead th {\n",
       "        text-align: right;\n",
       "    }\n",
       "</style>\n",
       "<table border=\"1\" class=\"dataframe\">\n",
       "  <thead>\n",
       "    <tr style=\"text-align: right;\">\n",
       "      <th></th>\n",
       "      <th>Market</th>\n",
       "      <th>Market Size</th>\n",
       "    </tr>\n",
       "    <tr>\n",
       "      <th>State</th>\n",
       "      <th></th>\n",
       "      <th></th>\n",
       "    </tr>\n",
       "  </thead>\n",
       "  <tbody>\n",
       "    <tr>\n",
       "      <th>California</th>\n",
       "      <td>1</td>\n",
       "      <td>1</td>\n",
       "    </tr>\n",
       "    <tr>\n",
       "      <th>Colorado</th>\n",
       "      <td>1</td>\n",
       "      <td>1</td>\n",
       "    </tr>\n",
       "    <tr>\n",
       "      <th>Connecticut</th>\n",
       "      <td>1</td>\n",
       "      <td>1</td>\n",
       "    </tr>\n",
       "    <tr>\n",
       "      <th>Florida</th>\n",
       "      <td>1</td>\n",
       "      <td>1</td>\n",
       "    </tr>\n",
       "    <tr>\n",
       "      <th>Illinois</th>\n",
       "      <td>1</td>\n",
       "      <td>1</td>\n",
       "    </tr>\n",
       "    <tr>\n",
       "      <th>Iowa</th>\n",
       "      <td>1</td>\n",
       "      <td>1</td>\n",
       "    </tr>\n",
       "    <tr>\n",
       "      <th>Louisiana</th>\n",
       "      <td>1</td>\n",
       "      <td>1</td>\n",
       "    </tr>\n",
       "    <tr>\n",
       "      <th>Massachusetts</th>\n",
       "      <td>1</td>\n",
       "      <td>1</td>\n",
       "    </tr>\n",
       "    <tr>\n",
       "      <th>Missouri</th>\n",
       "      <td>1</td>\n",
       "      <td>1</td>\n",
       "    </tr>\n",
       "    <tr>\n",
       "      <th>Nevada</th>\n",
       "      <td>1</td>\n",
       "      <td>1</td>\n",
       "    </tr>\n",
       "    <tr>\n",
       "      <th>New Hampshire</th>\n",
       "      <td>1</td>\n",
       "      <td>1</td>\n",
       "    </tr>\n",
       "    <tr>\n",
       "      <th>New Mexico</th>\n",
       "      <td>1</td>\n",
       "      <td>1</td>\n",
       "    </tr>\n",
       "    <tr>\n",
       "      <th>New York</th>\n",
       "      <td>1</td>\n",
       "      <td>1</td>\n",
       "    </tr>\n",
       "    <tr>\n",
       "      <th>Ohio</th>\n",
       "      <td>1</td>\n",
       "      <td>1</td>\n",
       "    </tr>\n",
       "    <tr>\n",
       "      <th>Oklahoma</th>\n",
       "      <td>1</td>\n",
       "      <td>1</td>\n",
       "    </tr>\n",
       "    <tr>\n",
       "      <th>Oregon</th>\n",
       "      <td>1</td>\n",
       "      <td>1</td>\n",
       "    </tr>\n",
       "    <tr>\n",
       "      <th>Texas</th>\n",
       "      <td>1</td>\n",
       "      <td>1</td>\n",
       "    </tr>\n",
       "    <tr>\n",
       "      <th>Utah</th>\n",
       "      <td>1</td>\n",
       "      <td>1</td>\n",
       "    </tr>\n",
       "    <tr>\n",
       "      <th>Washington</th>\n",
       "      <td>1</td>\n",
       "      <td>1</td>\n",
       "    </tr>\n",
       "    <tr>\n",
       "      <th>Wisconsin</th>\n",
       "      <td>1</td>\n",
       "      <td>1</td>\n",
       "    </tr>\n",
       "  </tbody>\n",
       "</table>\n",
       "</div>"
      ],
      "text/plain": [
       "               Market  Market Size\n",
       "State                             \n",
       "California          1            1\n",
       "Colorado            1            1\n",
       "Connecticut         1            1\n",
       "Florida             1            1\n",
       "Illinois            1            1\n",
       "Iowa                1            1\n",
       "Louisiana           1            1\n",
       "Massachusetts       1            1\n",
       "Missouri            1            1\n",
       "Nevada              1            1\n",
       "New Hampshire       1            1\n",
       "New Mexico          1            1\n",
       "New York            1            1\n",
       "Ohio                1            1\n",
       "Oklahoma            1            1\n",
       "Oregon              1            1\n",
       "Texas               1            1\n",
       "Utah                1            1\n",
       "Washington          1            1\n",
       "Wisconsin           1            1"
      ]
     },
     "execution_count": 15,
     "metadata": {},
     "output_type": "execute_result"
    }
   ],
   "source": [
    "area_code.groupby('State')[['Market','Market Size']].nunique()\n",
    "# Make sure each state can only belong to one Market and one Market Size"
   ]
  },
  {
   "cell_type": "code",
   "execution_count": 16,
   "id": "ef20f339-cfab-4899-9765-9ae8eca035be",
   "metadata": {},
   "outputs": [
    {
     "data": {
      "text/html": [
       "<div>\n",
       "<style scoped>\n",
       "    .dataframe tbody tr th:only-of-type {\n",
       "        vertical-align: middle;\n",
       "    }\n",
       "\n",
       "    .dataframe tbody tr th {\n",
       "        vertical-align: top;\n",
       "    }\n",
       "\n",
       "    .dataframe thead th {\n",
       "        text-align: right;\n",
       "    }\n",
       "</style>\n",
       "<table border=\"1\" class=\"dataframe\">\n",
       "  <thead>\n",
       "    <tr style=\"text-align: right;\">\n",
       "      <th></th>\n",
       "      <th>Market</th>\n",
       "      <th>Market Size</th>\n",
       "    </tr>\n",
       "    <tr>\n",
       "      <th>State</th>\n",
       "      <th></th>\n",
       "      <th></th>\n",
       "    </tr>\n",
       "  </thead>\n",
       "  <tbody>\n",
       "    <tr>\n",
       "      <th>California</th>\n",
       "      <td>West</td>\n",
       "      <td>Major Market</td>\n",
       "    </tr>\n",
       "    <tr>\n",
       "      <th>Colorado</th>\n",
       "      <td>Central</td>\n",
       "      <td>Major Market</td>\n",
       "    </tr>\n",
       "    <tr>\n",
       "      <th>Connecticut</th>\n",
       "      <td>East</td>\n",
       "      <td>Small Market</td>\n",
       "    </tr>\n",
       "    <tr>\n",
       "      <th>Florida</th>\n",
       "      <td>East</td>\n",
       "      <td>Major Market</td>\n",
       "    </tr>\n",
       "    <tr>\n",
       "      <th>Illinois</th>\n",
       "      <td>Central</td>\n",
       "      <td>Major Market</td>\n",
       "    </tr>\n",
       "  </tbody>\n",
       "</table>\n",
       "</div>"
      ],
      "text/plain": [
       "              Market   Market Size\n",
       "State                             \n",
       "California      West  Major Market\n",
       "Colorado     Central  Major Market\n",
       "Connecticut     East  Small Market\n",
       "Florida         East  Major Market\n",
       "Illinois     Central  Major Market"
      ]
     },
     "execution_count": 16,
     "metadata": {},
     "output_type": "execute_result"
    }
   ],
   "source": [
    "state = area_code.groupby('State')[['Market','Market Size']].max()\n",
    "state.head()\n",
    "#state table is a state dictionary for its Market and Market Size"
   ]
  },
  {
   "cell_type": "markdown",
   "id": "b3515a54-c0f5-44c3-a6fa-aa82757c5ab7",
   "metadata": {},
   "source": [
    "# 5. First Impression on Data"
   ]
  },
  {
   "cell_type": "markdown",
   "id": "d31462ce-116a-4865-998b-1a71d1365abf",
   "metadata": {},
   "source": [
    "## 5.1 Corralation Exploration "
   ]
  },
  {
   "cell_type": "code",
   "execution_count": 17,
   "id": "18a117a0-1fd6-44a0-86eb-fbaf51812dde",
   "metadata": {},
   "outputs": [
    {
     "data": {
      "text/plain": [
       "Index(['Area Code', 'State', 'Market', 'Market Size', 'Sales', 'COGS',\n",
       "       'Total Expenses', 'Marketing', 'Inventory', 'Budget Profit',\n",
       "       'Budget COGS', 'Budget Margin', 'Budget Sales', 'ProductId', 'Date',\n",
       "       'Product Type', 'Product', 'Type', 'Margin_new', 'Profit_new'],\n",
       "      dtype='object')"
      ]
     },
     "execution_count": 17,
     "metadata": {},
     "output_type": "execute_result"
    }
   ],
   "source": [
    "df0.columns"
   ]
  },
  {
   "cell_type": "code",
   "execution_count": 18,
   "id": "922fa942-22c4-43c2-bc9d-7c063a0fde12",
   "metadata": {},
   "outputs": [
    {
     "data": {
      "text/plain": [
       "(array([ 0.5,  1.5,  2.5,  3.5,  4.5,  5.5,  6.5,  7.5,  8.5,  9.5, 10.5]),\n",
       " [Text(0.5, 0, 'Sales'),\n",
       "  Text(1.5, 0, 'COGS'),\n",
       "  Text(2.5, 0, 'Total Expenses'),\n",
       "  Text(3.5, 0, 'Marketing'),\n",
       "  Text(4.5, 0, 'Inventory'),\n",
       "  Text(5.5, 0, 'Margin_new'),\n",
       "  Text(6.5, 0, 'Profit_new'),\n",
       "  Text(7.5, 0, 'Budget Sales'),\n",
       "  Text(8.5, 0, 'Budget COGS'),\n",
       "  Text(9.5, 0, 'Budget Profit'),\n",
       "  Text(10.5, 0, 'Budget Margin')])"
      ]
     },
     "execution_count": 18,
     "metadata": {},
     "output_type": "execute_result"
    },
    {
     "data": {
      "image/png": "[encoded data removed]",
      "text/plain": [
       "<Figure size 1440x720 with 2 Axes>"
      ]
     },
     "metadata": {
      "needs_background": "light"
     },
     "output_type": "display_data"
    }
   ],
   "source": [
    "df0_corr_1 = df0[['Sales','COGS','Total Expenses', 'Marketing', 'Inventory','Margin_new', 'Profit_new',\n",
    "                   'Budget Sales','Budget COGS','Budget Profit', 'Budget Margin', ]].corr()\n",
    "# Calculate the features' correlation matrix\n",
    "\n",
    "plt.figure(figsize=(20,10))\n",
    "sns.heatmap(df0_corr_1, square=True, annot = True)\n",
    "plt.xticks(rotation=40)\n",
    "# Plot heatmap for correlation matrix"
   ]
  },
  {
   "cell_type": "code",
   "execution_count": 19,
   "id": "70e676bc-34cb-45cc-b4c8-1ea1e9701189",
   "metadata": {},
   "outputs": [],
   "source": [
    "# From the heatmap, we can see the hint of the following things.\n",
    "# Weak relationship between Profit and Marketing, indicating the business is not marketing driven"
   ]
  },
  {
   "cell_type": "markdown",
   "id": "7e0b7a88-0532-444d-9b60-c618ed24810c",
   "metadata": {},
   "source": [
    "## 5.2 Exploration of Sales Breakdown for Each Product"
   ]
  },
  {
   "cell_type": "code",
   "execution_count": 20,
   "id": "3aa37dfa-e761-4b81-b978-ee7b11b08001",
   "metadata": {},
   "outputs": [],
   "source": [
    "# To better understand the sales composition, I split the total expenses into Marketing and Non_Marketing_expense\n",
    "df0['Non_Marketing_expense'] = df0['Total Expenses'] - df0['Marketing']"
   ]
  },
  {
   "cell_type": "code",
   "execution_count": 21,
   "id": "20773a8e-84f6-413b-80d2-0048f47cf9e1",
   "metadata": {},
   "outputs": [
    {
     "data": {
      "text/html": [
       "<div>\n",
       "<style scoped>\n",
       "    .dataframe tbody tr th:only-of-type {\n",
       "        vertical-align: middle;\n",
       "    }\n",
       "\n",
       "    .dataframe tbody tr th {\n",
       "        vertical-align: top;\n",
       "    }\n",
       "\n",
       "    .dataframe thead th {\n",
       "        text-align: right;\n",
       "    }\n",
       "</style>\n",
       "<table border=\"1\" class=\"dataframe\">\n",
       "  <thead>\n",
       "    <tr style=\"text-align: right;\">\n",
       "      <th></th>\n",
       "      <th>COGS</th>\n",
       "      <th>Non_Marketing_expense</th>\n",
       "      <th>Marketing</th>\n",
       "      <th>Profit_new</th>\n",
       "    </tr>\n",
       "    <tr>\n",
       "      <th>ProductId</th>\n",
       "      <th></th>\n",
       "      <th></th>\n",
       "      <th></th>\n",
       "      <th></th>\n",
       "    </tr>\n",
       "  </thead>\n",
       "  <tbody>\n",
       "    <tr>\n",
       "      <th>1</th>\n",
       "      <td>12732</td>\n",
       "      <td>4239</td>\n",
       "      <td>4658</td>\n",
       "      <td>4640</td>\n",
       "    </tr>\n",
       "    <tr>\n",
       "      <th>2</th>\n",
       "      <td>48396</td>\n",
       "      <td>14027</td>\n",
       "      <td>17346</td>\n",
       "      <td>48542</td>\n",
       "    </tr>\n",
       "    <tr>\n",
       "      <th>3</th>\n",
       "      <td>29568</td>\n",
       "      <td>8393</td>\n",
       "      <td>11362</td>\n",
       "      <td>12925</td>\n",
       "    </tr>\n",
       "    <tr>\n",
       "      <th>4</th>\n",
       "      <td>15294</td>\n",
       "      <td>4977</td>\n",
       "      <td>5472</td>\n",
       "      <td>10156</td>\n",
       "    </tr>\n",
       "    <tr>\n",
       "      <th>5</th>\n",
       "      <td>37990</td>\n",
       "      <td>10681</td>\n",
       "      <td>19686</td>\n",
       "      <td>16547</td>\n",
       "    </tr>\n",
       "    <tr>\n",
       "      <th>6</th>\n",
       "      <td>33318</td>\n",
       "      <td>8806</td>\n",
       "      <td>10112</td>\n",
       "      <td>25926</td>\n",
       "    </tr>\n",
       "    <tr>\n",
       "      <th>7</th>\n",
       "      <td>10398</td>\n",
       "      <td>1923</td>\n",
       "      <td>2946</td>\n",
       "      <td>8764</td>\n",
       "    </tr>\n",
       "    <tr>\n",
       "      <th>8</th>\n",
       "      <td>31386</td>\n",
       "      <td>7998</td>\n",
       "      <td>12166</td>\n",
       "      <td>24028</td>\n",
       "    </tr>\n",
       "    <tr>\n",
       "      <th>9</th>\n",
       "      <td>41494</td>\n",
       "      <td>11866</td>\n",
       "      <td>15880</td>\n",
       "      <td>26686</td>\n",
       "    </tr>\n",
       "    <tr>\n",
       "      <th>10</th>\n",
       "      <td>19930</td>\n",
       "      <td>3796</td>\n",
       "      <td>6108</td>\n",
       "      <td>5876</td>\n",
       "    </tr>\n",
       "    <tr>\n",
       "      <th>11</th>\n",
       "      <td>30534</td>\n",
       "      <td>7431</td>\n",
       "      <td>9766</td>\n",
       "      <td>25420</td>\n",
       "    </tr>\n",
       "    <tr>\n",
       "      <th>12</th>\n",
       "      <td>28554</td>\n",
       "      <td>7070</td>\n",
       "      <td>9846</td>\n",
       "      <td>21302</td>\n",
       "    </tr>\n",
       "    <tr>\n",
       "      <th>13</th>\n",
       "      <td>19078</td>\n",
       "      <td>5981</td>\n",
       "      <td>7126</td>\n",
       "      <td>665</td>\n",
       "    </tr>\n",
       "  </tbody>\n",
       "</table>\n",
       "</div>"
      ],
      "text/plain": [
       "            COGS  Non_Marketing_expense  Marketing  Profit_new\n",
       "ProductId                                                     \n",
       "1          12732                   4239       4658        4640\n",
       "2          48396                  14027      17346       48542\n",
       "3          29568                   8393      11362       12925\n",
       "4          15294                   4977       5472       10156\n",
       "5          37990                  10681      19686       16547\n",
       "6          33318                   8806      10112       25926\n",
       "7          10398                   1923       2946        8764\n",
       "8          31386                   7998      12166       24028\n",
       "9          41494                  11866      15880       26686\n",
       "10         19930                   3796       6108        5876\n",
       "11         30534                   7431       9766       25420\n",
       "12         28554                   7070       9846       21302\n",
       "13         19078                   5981       7126         665"
      ]
     },
     "execution_count": 21,
     "metadata": {},
     "output_type": "execute_result"
    }
   ],
   "source": [
    "# Now sales = COGS (Cost of Goods Sold) + Non_Marketing_expense + Marketing + Profit_new\n",
    "\n",
    "df1_1 = df0.groupby('ProductId')[['COGS','Non_Marketing_expense','Marketing','Profit_new']].sum()\n",
    "# Aggregate whole table to summarize the total amount for each part between 2010 and 2011\n",
    "\n",
    "df1_1"
   ]
  },
  {
   "cell_type": "code",
   "execution_count": 22,
   "id": "6eb67cbf-2f23-4d56-8095-0973256a9238",
   "metadata": {},
   "outputs": [
    {
     "data": {
      "text/plain": [
       "Text(0, 0.5, 'Percentage (%)')"
      ]
     },
     "execution_count": 22,
     "metadata": {},
     "output_type": "execute_result"
    },
    {
     "data": {
      "image/png": "[encoded data removed]",
      "text/plain": [
       "<Figure size 1080x360 with 2 Axes>"
      ]
     },
     "metadata": {
      "needs_background": "light"
     },
     "output_type": "display_data"
    }
   ],
   "source": [
    "# Let's see how these pieces distributes within Sales of each product between 2010 and 2011\n",
    "\n",
    "fig, (ax1, ax2) = plt.subplots(1,2, figsize=(15,5))\n",
    "\n",
    "plt.subplot(1, 2, 1)\n",
    "df1_1.plot(kind='bar',stacked=True,ax=ax1)\n",
    "plt.xticks(rotation=0, horizontalalignment=\"center\")\n",
    "plt.title(\"Total Sales Breakdown Amount vs Products\")\n",
    "plt.xlabel(\"Product Id\")\n",
    "plt.ylabel(\"Dollars\")\n",
    "\n",
    "plt.subplot(1, 2, 2)\n",
    "df1_2 = df1_1.apply(lambda x: x*100/sum(x), axis=1)\n",
    "df1_2.plot(kind=\"bar\", stacked=True,ax=ax2).legend(loc='lower right')\n",
    "plt.xticks(rotation=0, horizontalalignment=\"center\")\n",
    "plt.title(\"Total Sales Breakdown Percentage vs Products\")\n",
    "plt.xlabel(\"Product Id\")\n",
    "plt.ylabel(\"Percentage (%)\")"
   ]
  },
  {
   "cell_type": "code",
   "execution_count": 23,
   "id": "40045f80-3c88-472d-b846-667f1c206cbb",
   "metadata": {},
   "outputs": [],
   "source": [
    "# The first Bar charts shows the sales amount for each product, and how much of sales were on COGS, Non_Markting_expense, Marketing and Profit.\n",
    "# The second Bar charts shows the percentage of each piece for each product.\n",
    "\n",
    "# Finding:\n",
    "# 1. Product 2 has the largest sales amount; whereas, product 1,4,7 and 13 have small sales.\n",
    "# 2. From the percentage bar chart, it's obvious that product 2 has the best profit rate and product 13 has the worst profit rate and highest expense percentage."
   ]
  },
  {
   "cell_type": "code",
   "execution_count": 24,
   "id": "d639d973-9e35-4c08-b6b7-f4fa18fd0ed4",
   "metadata": {},
   "outputs": [
    {
     "data": {
      "text/html": [
       "<div>\n",
       "<style scoped>\n",
       "    .dataframe tbody tr th:only-of-type {\n",
       "        vertical-align: middle;\n",
       "    }\n",
       "\n",
       "    .dataframe tbody tr th {\n",
       "        vertical-align: top;\n",
       "    }\n",
       "\n",
       "    .dataframe thead th {\n",
       "        text-align: right;\n",
       "    }\n",
       "</style>\n",
       "<table border=\"1\" class=\"dataframe\">\n",
       "  <thead>\n",
       "    <tr style=\"text-align: right;\">\n",
       "      <th></th>\n",
       "      <th>Product Type</th>\n",
       "      <th>Product</th>\n",
       "      <th>Type</th>\n",
       "    </tr>\n",
       "    <tr>\n",
       "      <th>ProductId</th>\n",
       "      <th></th>\n",
       "      <th></th>\n",
       "      <th></th>\n",
       "    </tr>\n",
       "  </thead>\n",
       "  <tbody>\n",
       "    <tr>\n",
       "      <th>1</th>\n",
       "      <td>Coffee</td>\n",
       "      <td>Amaretto</td>\n",
       "      <td>Regular</td>\n",
       "    </tr>\n",
       "    <tr>\n",
       "      <th>2</th>\n",
       "      <td>Coffee</td>\n",
       "      <td>Columbian</td>\n",
       "      <td>Regular</td>\n",
       "    </tr>\n",
       "    <tr>\n",
       "      <th>3</th>\n",
       "      <td>Coffee</td>\n",
       "      <td>Decaf Irish Cream</td>\n",
       "      <td>Decaf</td>\n",
       "    </tr>\n",
       "    <tr>\n",
       "      <th>4</th>\n",
       "      <td>Espresso</td>\n",
       "      <td>Caffe Latte</td>\n",
       "      <td>Regular</td>\n",
       "    </tr>\n",
       "    <tr>\n",
       "      <th>5</th>\n",
       "      <td>Espresso</td>\n",
       "      <td>Caffe Mocha</td>\n",
       "      <td>Regular</td>\n",
       "    </tr>\n",
       "    <tr>\n",
       "      <th>6</th>\n",
       "      <td>Espresso</td>\n",
       "      <td>Decaf Espresso</td>\n",
       "      <td>Decaf</td>\n",
       "    </tr>\n",
       "    <tr>\n",
       "      <th>7</th>\n",
       "      <td>Espresso</td>\n",
       "      <td>Regular Espresso</td>\n",
       "      <td>Regular</td>\n",
       "    </tr>\n",
       "    <tr>\n",
       "      <th>8</th>\n",
       "      <td>Herbal Tea</td>\n",
       "      <td>Chamomile</td>\n",
       "      <td>Decaf</td>\n",
       "    </tr>\n",
       "    <tr>\n",
       "      <th>9</th>\n",
       "      <td>Herbal Tea</td>\n",
       "      <td>Lemon</td>\n",
       "      <td>Decaf</td>\n",
       "    </tr>\n",
       "    <tr>\n",
       "      <th>10</th>\n",
       "      <td>Herbal Tea</td>\n",
       "      <td>Mint</td>\n",
       "      <td>Decaf</td>\n",
       "    </tr>\n",
       "    <tr>\n",
       "      <th>11</th>\n",
       "      <td>Tea</td>\n",
       "      <td>Darjeeling</td>\n",
       "      <td>Regular</td>\n",
       "    </tr>\n",
       "    <tr>\n",
       "      <th>12</th>\n",
       "      <td>Tea</td>\n",
       "      <td>Earl Grey</td>\n",
       "      <td>Regular</td>\n",
       "    </tr>\n",
       "    <tr>\n",
       "      <th>13</th>\n",
       "      <td>Tea</td>\n",
       "      <td>Green Tea</td>\n",
       "      <td>Regular</td>\n",
       "    </tr>\n",
       "  </tbody>\n",
       "</table>\n",
       "</div>"
      ],
      "text/plain": [
       "          Product Type            Product     Type\n",
       "ProductId                                         \n",
       "1               Coffee           Amaretto  Regular\n",
       "2               Coffee          Columbian  Regular\n",
       "3               Coffee  Decaf Irish Cream    Decaf\n",
       "4             Espresso        Caffe Latte  Regular\n",
       "5             Espresso        Caffe Mocha  Regular\n",
       "6             Espresso     Decaf Espresso    Decaf\n",
       "7             Espresso   Regular Espresso  Regular\n",
       "8           Herbal Tea          Chamomile    Decaf\n",
       "9           Herbal Tea              Lemon    Decaf\n",
       "10          Herbal Tea               Mint    Decaf\n",
       "11                 Tea         Darjeeling  Regular\n",
       "12                 Tea          Earl Grey  Regular\n",
       "13                 Tea          Green Tea  Regular"
      ]
     },
     "execution_count": 24,
     "metadata": {},
     "output_type": "execute_result"
    }
   ],
   "source": [
    "# For the convenience, here is the product table for look up.\n",
    "product"
   ]
  },
  {
   "cell_type": "markdown",
   "id": "94afdd88-7bd0-47bc-98df-a7a5487af271",
   "metadata": {},
   "source": [
    "## 5.3 Exploration of Market Sales Breakdown for Each Product"
   ]
  },
  {
   "cell_type": "code",
   "execution_count": 25,
   "id": "18a78709-87b1-4056-bfcc-d24311b3e5e1",
   "metadata": {},
   "outputs": [
    {
     "data": {
      "text/html": [
       "<div>\n",
       "<style scoped>\n",
       "    .dataframe tbody tr th:only-of-type {\n",
       "        vertical-align: middle;\n",
       "    }\n",
       "\n",
       "    .dataframe tbody tr th {\n",
       "        vertical-align: top;\n",
       "    }\n",
       "\n",
       "    .dataframe thead th {\n",
       "        text-align: right;\n",
       "    }\n",
       "</style>\n",
       "<table border=\"1\" class=\"dataframe\">\n",
       "  <thead>\n",
       "    <tr style=\"text-align: right;\">\n",
       "      <th></th>\n",
       "      <th>Market_Central</th>\n",
       "      <th>Market_East</th>\n",
       "      <th>Market_South</th>\n",
       "      <th>Market_West</th>\n",
       "    </tr>\n",
       "    <tr>\n",
       "      <th>ProductId</th>\n",
       "      <th></th>\n",
       "      <th></th>\n",
       "      <th></th>\n",
       "      <th></th>\n",
       "    </tr>\n",
       "  </thead>\n",
       "  <tbody>\n",
       "    <tr>\n",
       "      <th>1</th>\n",
       "      <td>14012.0</td>\n",
       "      <td>2994.0</td>\n",
       "      <td>0.0</td>\n",
       "      <td>9263.0</td>\n",
       "    </tr>\n",
       "    <tr>\n",
       "      <th>2</th>\n",
       "      <td>28911.0</td>\n",
       "      <td>47385.0</td>\n",
       "      <td>21663.0</td>\n",
       "      <td>30352.0</td>\n",
       "    </tr>\n",
       "    <tr>\n",
       "      <th>3</th>\n",
       "      <td>26157.0</td>\n",
       "      <td>6262.0</td>\n",
       "      <td>11596.0</td>\n",
       "      <td>18233.0</td>\n",
       "    </tr>\n",
       "    <tr>\n",
       "      <th>4</th>\n",
       "      <td>0.0</td>\n",
       "      <td>0.0</td>\n",
       "      <td>15443.0</td>\n",
       "      <td>20456.0</td>\n",
       "    </tr>\n",
       "    <tr>\n",
       "      <th>5</th>\n",
       "      <td>35218.0</td>\n",
       "      <td>16646.0</td>\n",
       "      <td>14166.0</td>\n",
       "      <td>18874.0</td>\n",
       "    </tr>\n",
       "    <tr>\n",
       "      <th>6</th>\n",
       "      <td>24483.0</td>\n",
       "      <td>7720.0</td>\n",
       "      <td>15381.0</td>\n",
       "      <td>30578.0</td>\n",
       "    </tr>\n",
       "    <tr>\n",
       "      <th>7</th>\n",
       "      <td>0.0</td>\n",
       "      <td>24031.0</td>\n",
       "      <td>0.0</td>\n",
       "      <td>0.0</td>\n",
       "    </tr>\n",
       "    <tr>\n",
       "      <th>8</th>\n",
       "      <td>36571.0</td>\n",
       "      <td>2193.0</td>\n",
       "      <td>11183.0</td>\n",
       "      <td>25631.0</td>\n",
       "    </tr>\n",
       "    <tr>\n",
       "      <th>9</th>\n",
       "      <td>21982.0</td>\n",
       "      <td>27177.0</td>\n",
       "      <td>14494.0</td>\n",
       "      <td>32273.0</td>\n",
       "    </tr>\n",
       "    <tr>\n",
       "      <th>10</th>\n",
       "      <td>9335.0</td>\n",
       "      <td>11991.0</td>\n",
       "      <td>0.0</td>\n",
       "      <td>14384.0</td>\n",
       "    </tr>\n",
       "    <tr>\n",
       "      <th>11</th>\n",
       "      <td>30284.0</td>\n",
       "      <td>14094.0</td>\n",
       "      <td>0.0</td>\n",
       "      <td>28773.0</td>\n",
       "    </tr>\n",
       "    <tr>\n",
       "      <th>12</th>\n",
       "      <td>32883.0</td>\n",
       "      <td>6507.0</td>\n",
       "      <td>0.0</td>\n",
       "      <td>27382.0</td>\n",
       "    </tr>\n",
       "    <tr>\n",
       "      <th>13</th>\n",
       "      <td>5209.0</td>\n",
       "      <td>11576.0</td>\n",
       "      <td>0.0</td>\n",
       "      <td>16065.0</td>\n",
       "    </tr>\n",
       "  </tbody>\n",
       "</table>\n",
       "</div>"
      ],
      "text/plain": [
       "           Market_Central  Market_East  Market_South  Market_West\n",
       "ProductId                                                        \n",
       "1                 14012.0       2994.0           0.0       9263.0\n",
       "2                 28911.0      47385.0       21663.0      30352.0\n",
       "3                 26157.0       6262.0       11596.0      18233.0\n",
       "4                     0.0          0.0       15443.0      20456.0\n",
       "5                 35218.0      16646.0       14166.0      18874.0\n",
       "6                 24483.0       7720.0       15381.0      30578.0\n",
       "7                     0.0      24031.0           0.0          0.0\n",
       "8                 36571.0       2193.0       11183.0      25631.0\n",
       "9                 21982.0      27177.0       14494.0      32273.0\n",
       "10                 9335.0      11991.0           0.0      14384.0\n",
       "11                30284.0      14094.0           0.0      28773.0\n",
       "12                32883.0       6507.0           0.0      27382.0\n",
       "13                 5209.0      11576.0           0.0      16065.0"
      ]
     },
     "execution_count": 25,
     "metadata": {},
     "output_type": "execute_result"
    }
   ],
   "source": [
    "# Now Let's see how each market contributes sales to products\n",
    "\n",
    "df2_1 = df0.groupby(['ProductId','Market'])['Sales'].sum().to_frame()\n",
    "\n",
    "# Pivot the table to get Sales for each market.\n",
    "df2_2 = df2_1['Sales'].unstack().add_prefix('Market_').rename_axis([None], axis=1).fillna(0)\n",
    "df2_2"
   ]
  },
  {
   "cell_type": "code",
   "execution_count": 26,
   "id": "1914b8a1-04d4-494a-864f-5ad440ddffb2",
   "metadata": {},
   "outputs": [
    {
     "data": {
      "text/plain": [
       "Text(0, 0.5, 'Percentage (%)')"
      ]
     },
     "execution_count": 26,
     "metadata": {},
     "output_type": "execute_result"
    },
    {
     "data": {
      "image/png": "[encoded data removed]",
      "text/plain": [
       "<Figure size 1080x360 with 2 Axes>"
      ]
     },
     "metadata": {
      "needs_background": "light"
     },
     "output_type": "display_data"
    }
   ],
   "source": [
    "fig, (ax1, ax2) = plt.subplots(1,2, figsize=(15,5))\n",
    "\n",
    "plt.subplot(1, 2, 1)\n",
    "df2_2.plot(kind='bar',stacked=True,ax=ax1)\n",
    "plt.xticks(rotation=0, horizontalalignment=\"center\")\n",
    "plt.title(\"Total Sales Amount Market Breakdown vs Products\")\n",
    "plt.xlabel(\"ProductId\")\n",
    "plt.ylabel(\"Dollars\")\n",
    "\n",
    "plt.subplot(1, 2, 2)\n",
    "df2_3 = df2_2.apply(lambda x: x*100/sum(x), axis=1)\n",
    "df2_3.plot(kind=\"bar\", stacked=True,ax=ax2).legend(loc='lower right')\n",
    "plt.xticks(rotation=0, horizontalalignment=\"center\")\n",
    "plt.title(\"Total Sales Amount Market Breakdown Percentage vs Products\")\n",
    "plt.xlabel(\"ProductId\")\n",
    "plt.ylabel(\"Percentage (%)\")"
   ]
  },
  {
   "cell_type": "code",
   "execution_count": 27,
   "id": "71e53830-d74f-425f-ab94-1df60d4681d8",
   "metadata": {},
   "outputs": [],
   "source": [
    "# 1. Products were sold in a very different regions.\n",
    "# 2. For most of products, Central Market takes a large portion.\n",
    "# 3. Product 7 is sold in a signle region, East Market."
   ]
  },
  {
   "cell_type": "code",
   "execution_count": 28,
   "id": "bf84da7e-148c-449a-a000-255c353f9c1d",
   "metadata": {},
   "outputs": [
    {
     "data": {
      "text/html": [
       "<div>\n",
       "<style scoped>\n",
       "    .dataframe tbody tr th:only-of-type {\n",
       "        vertical-align: middle;\n",
       "    }\n",
       "\n",
       "    .dataframe tbody tr th {\n",
       "        vertical-align: top;\n",
       "    }\n",
       "\n",
       "    .dataframe thead th {\n",
       "        text-align: right;\n",
       "    }\n",
       "</style>\n",
       "<table border=\"1\" class=\"dataframe\">\n",
       "  <thead>\n",
       "    <tr style=\"text-align: right;\">\n",
       "      <th></th>\n",
       "      <th>Product Type</th>\n",
       "      <th>Product</th>\n",
       "      <th>Type</th>\n",
       "    </tr>\n",
       "    <tr>\n",
       "      <th>ProductId</th>\n",
       "      <th></th>\n",
       "      <th></th>\n",
       "      <th></th>\n",
       "    </tr>\n",
       "  </thead>\n",
       "  <tbody>\n",
       "    <tr>\n",
       "      <th>1</th>\n",
       "      <td>Coffee</td>\n",
       "      <td>Amaretto</td>\n",
       "      <td>Regular</td>\n",
       "    </tr>\n",
       "    <tr>\n",
       "      <th>2</th>\n",
       "      <td>Coffee</td>\n",
       "      <td>Columbian</td>\n",
       "      <td>Regular</td>\n",
       "    </tr>\n",
       "    <tr>\n",
       "      <th>3</th>\n",
       "      <td>Coffee</td>\n",
       "      <td>Decaf Irish Cream</td>\n",
       "      <td>Decaf</td>\n",
       "    </tr>\n",
       "    <tr>\n",
       "      <th>4</th>\n",
       "      <td>Espresso</td>\n",
       "      <td>Caffe Latte</td>\n",
       "      <td>Regular</td>\n",
       "    </tr>\n",
       "    <tr>\n",
       "      <th>5</th>\n",
       "      <td>Espresso</td>\n",
       "      <td>Caffe Mocha</td>\n",
       "      <td>Regular</td>\n",
       "    </tr>\n",
       "    <tr>\n",
       "      <th>6</th>\n",
       "      <td>Espresso</td>\n",
       "      <td>Decaf Espresso</td>\n",
       "      <td>Decaf</td>\n",
       "    </tr>\n",
       "    <tr>\n",
       "      <th>7</th>\n",
       "      <td>Espresso</td>\n",
       "      <td>Regular Espresso</td>\n",
       "      <td>Regular</td>\n",
       "    </tr>\n",
       "    <tr>\n",
       "      <th>8</th>\n",
       "      <td>Herbal Tea</td>\n",
       "      <td>Chamomile</td>\n",
       "      <td>Decaf</td>\n",
       "    </tr>\n",
       "    <tr>\n",
       "      <th>9</th>\n",
       "      <td>Herbal Tea</td>\n",
       "      <td>Lemon</td>\n",
       "      <td>Decaf</td>\n",
       "    </tr>\n",
       "    <tr>\n",
       "      <th>10</th>\n",
       "      <td>Herbal Tea</td>\n",
       "      <td>Mint</td>\n",
       "      <td>Decaf</td>\n",
       "    </tr>\n",
       "    <tr>\n",
       "      <th>11</th>\n",
       "      <td>Tea</td>\n",
       "      <td>Darjeeling</td>\n",
       "      <td>Regular</td>\n",
       "    </tr>\n",
       "    <tr>\n",
       "      <th>12</th>\n",
       "      <td>Tea</td>\n",
       "      <td>Earl Grey</td>\n",
       "      <td>Regular</td>\n",
       "    </tr>\n",
       "    <tr>\n",
       "      <th>13</th>\n",
       "      <td>Tea</td>\n",
       "      <td>Green Tea</td>\n",
       "      <td>Regular</td>\n",
       "    </tr>\n",
       "  </tbody>\n",
       "</table>\n",
       "</div>"
      ],
      "text/plain": [
       "          Product Type            Product     Type\n",
       "ProductId                                         \n",
       "1               Coffee           Amaretto  Regular\n",
       "2               Coffee          Columbian  Regular\n",
       "3               Coffee  Decaf Irish Cream    Decaf\n",
       "4             Espresso        Caffe Latte  Regular\n",
       "5             Espresso        Caffe Mocha  Regular\n",
       "6             Espresso     Decaf Espresso    Decaf\n",
       "7             Espresso   Regular Espresso  Regular\n",
       "8           Herbal Tea          Chamomile    Decaf\n",
       "9           Herbal Tea              Lemon    Decaf\n",
       "10          Herbal Tea               Mint    Decaf\n",
       "11                 Tea         Darjeeling  Regular\n",
       "12                 Tea          Earl Grey  Regular\n",
       "13                 Tea          Green Tea  Regular"
      ]
     },
     "execution_count": 28,
     "metadata": {},
     "output_type": "execute_result"
    }
   ],
   "source": [
    "# For the convenience, here is the product table for look up.\n",
    "product"
   ]
  },
  {
   "cell_type": "markdown",
   "id": "b486900f-d61e-45de-8679-fc2cd6cde631",
   "metadata": {
    "tags": []
   },
   "source": [
    "# 6. Feature Engineering: Reduction & Addition & Manipulation"
   ]
  },
  {
   "cell_type": "markdown",
   "id": "4d9a715e-2e8f-4d54-a54f-6c7ad1af7065",
   "metadata": {},
   "source": [
    "## 6.1 Create dummy variables for Market and Market Size (One-Hot-Encoding)"
   ]
  },
  {
   "cell_type": "code",
   "execution_count": 29,
   "id": "8a59151f-8bcb-4a8d-adbe-01cf6488238b",
   "metadata": {},
   "outputs": [
    {
     "data": {
      "text/plain": [
       "Market\n",
       "Central    2\n",
       "East       2\n",
       "South      2\n",
       "West       2\n",
       "Name: Market Size, dtype: int64"
      ]
     },
     "execution_count": 29,
     "metadata": {},
     "output_type": "execute_result"
    }
   ],
   "source": [
    "df0.groupby('Market')['Market Size'].nunique()\n",
    "# Check if all markets have both Major Market and Small Market"
   ]
  },
  {
   "cell_type": "code",
   "execution_count": 30,
   "id": "c1035bc6-b447-41fb-bc0d-9fe9f92e62ba",
   "metadata": {},
   "outputs": [
    {
     "name": "stdout",
     "output_type": "stream",
     "text": [
      "['East' 'West' 'South' 'Central']\n",
      "['Small Market' 'Major Market']\n"
     ]
    }
   ],
   "source": [
    "print(df0['Market'].unique())\n",
    "print(df0['Market Size'].unique())"
   ]
  },
  {
   "cell_type": "code",
   "execution_count": 31,
   "id": "2291facb-e523-4a3f-8433-186efb916350",
   "metadata": {},
   "outputs": [
    {
     "data": {
      "text/plain": [
       "Index(['Area Code', 'State', 'Sales', 'COGS', 'Total Expenses', 'Marketing',\n",
       "       'Inventory', 'Budget Profit', 'Budget COGS', 'Budget Margin',\n",
       "       'Budget Sales', 'ProductId', 'Date', 'Product Type', 'Product', 'Type',\n",
       "       'Margin_new', 'Profit_new', 'Non_Marketing_expense', 'Market_Central',\n",
       "       'Market_East', 'Market_South', 'Market_West',\n",
       "       'Market Size_Major Market', 'Market Size_Small Market'],\n",
       "      dtype='object')"
      ]
     },
     "execution_count": 31,
     "metadata": {},
     "output_type": "execute_result"
    }
   ],
   "source": [
    "# Create dummy variables for both Market and Market Size\n",
    "# The dummy variables (1/0) are indicator of sales that happens in corresponding market/market_size.\n",
    "\n",
    "df_one_hot = pd.get_dummies(df0, columns = ['Market', 'Market Size'])\n",
    "df_one_hot.columns"
   ]
  },
  {
   "cell_type": "markdown",
   "id": "dd7b9052-4b98-4341-b104-ed87284a6096",
   "metadata": {},
   "source": [
    "## 6.2 Create New Features"
   ]
  },
  {
   "cell_type": "markdown",
   "id": "8ec65819-48fe-4b83-9566-0e37642b21ee",
   "metadata": {},
   "source": [
    "### 6.2.1 Sales Forcasting Accuracy"
   ]
  },
  {
   "cell_type": "code",
   "execution_count": 32,
   "id": "a78bd614-e8d3-472e-80e2-63fb063a2b24",
   "metadata": {},
   "outputs": [],
   "source": [
    "# Sales Forcasting Accuracy means how accurate your sales forecast is. \n",
    "# It tells us how close we come to actually hit our projections.\n",
    "# The closer it is to 0, the more accurate our projection is.\n",
    "\n",
    "df_one_hot['sales_forcast_accuracy'] = (df_one_hot['Sales'] - df_one_hot['Budget Sales'])*100/df_one_hot['Sales']\n"
   ]
  },
  {
   "cell_type": "markdown",
   "id": "6e195be8-aa11-435c-a2ce-56de252be194",
   "metadata": {},
   "source": [
    "### 6.2.2 Stock to Sales Ratio"
   ]
  },
  {
   "cell_type": "code",
   "execution_count": 33,
   "id": "f44a9afa-e198-4b0b-9cb7-7cc6525df1e0",
   "metadata": {},
   "outputs": [],
   "source": [
    "# Stock to sales ratio, also known as inventory to sales ratio, \n",
    "# measures the value of your inventory against the value of sales for a certain period of time.\n",
    "\n",
    "df_one_hot['stock_to_sales'] = df_one_hot['Inventory']/df_one_hot['Sales']\n",
    "\n",
    "# this calculated ratio here is for a certain month of a product at one area; to be specific, it's for one sale in the sales.csv\n",
    "# it shows how well the products sell."
   ]
  },
  {
   "cell_type": "markdown",
   "id": "55e79f50-1cbc-4e1d-b78c-991769d58a96",
   "metadata": {},
   "source": [
    "### 6.2.3 Total Sales, COGS, Marketing, Non_Marketing_expense, Profit, Inventory, Budget Sales for each product"
   ]
  },
  {
   "cell_type": "code",
   "execution_count": 34,
   "id": "e19cdbb0-7a21-4913-979b-1159d2bdbfb7",
   "metadata": {},
   "outputs": [],
   "source": [
    "# Aggregate Sales, COGS, Marketing, Non_Marketing_expense, Profit, Inventory, Budget Sales to product level\n",
    "# .sum() gives us total sales/COGS/Marketing/Non_Marketing_expense/Profit/Inventory/Budget Sales over 2010 and 2011\n",
    "\n",
    "df3 = df_one_hot[['ProductId', 'Sales', 'COGS', 'Marketing', 'Non_Marketing_expense', 'Profit_new', 'Inventory', 'Budget Sales']]\\\n",
    "        .groupby('ProductId').sum()\n",
    "\n",
    "# Now we finally have a dataframe, df3, aggregated on product level!"
   ]
  },
  {
   "cell_type": "markdown",
   "id": "e6977850-d5fa-4723-ac0c-89c60a506cb4",
   "metadata": {},
   "source": [
    "### 6.2.4 Aggregate on Market Region/size"
   ]
  },
  {
   "cell_type": "code",
   "execution_count": 35,
   "id": "1f1ab1a4-b8e6-4f18-9050-024bbe917c69",
   "metadata": {},
   "outputs": [],
   "source": [
    "# Aggregate how many times a certain market region and size shows in the sales.csv for each product\n",
    "\n",
    "df3[['Market_Central','Market_East', 'Market_South', 'Market_West','Market Size_Major Market', 'Market Size_Small Market']] \\\n",
    "        = df_one_hot[['ProductId', \\\n",
    "        'Market_Central','Market_East', 'Market_South', 'Market_West', \\\n",
    "        'Market Size_Major Market', 'Market Size_Small Market']].groupby('ProductId').sum()"
   ]
  },
  {
   "cell_type": "code",
   "execution_count": 36,
   "id": "12829e20-a416-4da8-8a17-995477450493",
   "metadata": {},
   "outputs": [],
   "source": [
    "# PLEASE NOTE: The above aggregated frequencies shows how active the sales of a product is in 2010 and 2011; \n",
    "              # it does not necessarily indicate the sales amount or sales value;\n",
    "              # without the units sold in each sale record in sales.csv, this is probably the only thing we can do to reflect market activity."
   ]
  },
  {
   "cell_type": "markdown",
   "id": "f0a73ac2-dc57-4869-813b-9ba146c93bdd",
   "metadata": {},
   "source": [
    "### 6.2.5 Market Size Ratio"
   ]
  },
  {
   "cell_type": "code",
   "execution_count": 37,
   "id": "9c5dab3d-b3e0-4919-9dc0-fd4139d9ed4d",
   "metadata": {},
   "outputs": [],
   "source": [
    "# Having Market Size for both major and small market is redundant.\n",
    "# Here we can use the ratio of major market showup frequency and small market showup frequency to replace them.\n",
    "\n",
    "df3['Market_size_ratio'] = round(df3['Market Size_Major Market']/df3['Market Size_Small Market'],2)\n",
    "df3.drop(['Market Size_Major Market', 'Market Size_Small Market'],axis = 1,inplace = True)"
   ]
  },
  {
   "cell_type": "markdown",
   "id": "7fc95c04-81b5-4d2c-8995-1f5310e8eef8",
   "metadata": {},
   "source": [
    "### 6.2.6 Average Stock_to_Sales_Ratio and Sales_Forcast_Accuracy"
   ]
  },
  {
   "cell_type": "code",
   "execution_count": 38,
   "id": "52a7c712-ee5c-40f4-a779-11152b19b0fa",
   "metadata": {},
   "outputs": [],
   "source": [
    "# Previously we calculated the sales_forcast_accuracy and stock_to_sales, which are calculated on per sale record.\n",
    "# Here let's aggregate it to product level and get avg_stock_to_sales and avg_sales_forcast_accuracy.\n",
    "\n",
    "df3['avg_stock_to_sales'] = df_one_hot[['ProductId','stock_to_sales']].groupby('ProductId').mean()\n",
    "df3['avg_sales_forcast_accuracy'] = df_one_hot[['ProductId','sales_forcast_accuracy']].groupby('ProductId').mean()"
   ]
  },
  {
   "cell_type": "code",
   "execution_count": 39,
   "id": "021cc91b-61c3-4af2-b4be-01189b23b2e5",
   "metadata": {},
   "outputs": [
    {
     "data": {
      "text/html": [
       "<div>\n",
       "<style scoped>\n",
       "    .dataframe tbody tr th:only-of-type {\n",
       "        vertical-align: middle;\n",
       "    }\n",
       "\n",
       "    .dataframe tbody tr th {\n",
       "        vertical-align: top;\n",
       "    }\n",
       "\n",
       "    .dataframe thead th {\n",
       "        text-align: right;\n",
       "    }\n",
       "</style>\n",
       "<table border=\"1\" class=\"dataframe\">\n",
       "  <thead>\n",
       "    <tr style=\"text-align: right;\">\n",
       "      <th></th>\n",
       "      <th>Sales</th>\n",
       "      <th>COGS</th>\n",
       "      <th>Marketing</th>\n",
       "      <th>Non_Marketing_expense</th>\n",
       "      <th>Profit_new</th>\n",
       "      <th>Inventory</th>\n",
       "      <th>Budget Sales</th>\n",
       "      <th>Market_Central</th>\n",
       "      <th>Market_East</th>\n",
       "      <th>Market_South</th>\n",
       "      <th>Market_West</th>\n",
       "      <th>Market_size_ratio</th>\n",
       "      <th>avg_stock_to_sales</th>\n",
       "      <th>avg_sales_forcast_accuracy</th>\n",
       "    </tr>\n",
       "    <tr>\n",
       "      <th>ProductId</th>\n",
       "      <th></th>\n",
       "      <th></th>\n",
       "      <th></th>\n",
       "      <th></th>\n",
       "      <th></th>\n",
       "      <th></th>\n",
       "      <th></th>\n",
       "      <th></th>\n",
       "      <th></th>\n",
       "      <th></th>\n",
       "      <th></th>\n",
       "      <th></th>\n",
       "      <th></th>\n",
       "      <th></th>\n",
       "    </tr>\n",
       "  </thead>\n",
       "  <tbody>\n",
       "    <tr>\n",
       "      <th>1</th>\n",
       "      <td>26269</td>\n",
       "      <td>12732</td>\n",
       "      <td>4658</td>\n",
       "      <td>4239</td>\n",
       "      <td>4640</td>\n",
       "      <td>142276</td>\n",
       "      <td>27200</td>\n",
       "      <td>96.0</td>\n",
       "      <td>24.0</td>\n",
       "      <td>0.0</td>\n",
       "      <td>72.0</td>\n",
       "      <td>0.60</td>\n",
       "      <td>6.881992</td>\n",
       "      <td>-3.288578</td>\n",
       "    </tr>\n",
       "    <tr>\n",
       "      <th>2</th>\n",
       "      <td>128311</td>\n",
       "      <td>48396</td>\n",
       "      <td>17346</td>\n",
       "      <td>14027</td>\n",
       "      <td>48542</td>\n",
       "      <td>339624</td>\n",
       "      <td>134380</td>\n",
       "      <td>144.0</td>\n",
       "      <td>120.0</td>\n",
       "      <td>96.0</td>\n",
       "      <td>120.0</td>\n",
       "      <td>0.67</td>\n",
       "      <td>3.673540</td>\n",
       "      <td>-5.400927</td>\n",
       "    </tr>\n",
       "    <tr>\n",
       "      <th>3</th>\n",
       "      <td>62248</td>\n",
       "      <td>29568</td>\n",
       "      <td>11362</td>\n",
       "      <td>8393</td>\n",
       "      <td>12925</td>\n",
       "      <td>322054</td>\n",
       "      <td>67040</td>\n",
       "      <td>144.0</td>\n",
       "      <td>24.0</td>\n",
       "      <td>96.0</td>\n",
       "      <td>120.0</td>\n",
       "      <td>0.60</td>\n",
       "      <td>6.836576</td>\n",
       "      <td>-8.711592</td>\n",
       "    </tr>\n",
       "    <tr>\n",
       "      <th>4</th>\n",
       "      <td>35899</td>\n",
       "      <td>15294</td>\n",
       "      <td>5472</td>\n",
       "      <td>4977</td>\n",
       "      <td>10156</td>\n",
       "      <td>55294</td>\n",
       "      <td>30540</td>\n",
       "      <td>0.0</td>\n",
       "      <td>0.0</td>\n",
       "      <td>96.0</td>\n",
       "      <td>120.0</td>\n",
       "      <td>0.29</td>\n",
       "      <td>2.689181</td>\n",
       "      <td>16.585659</td>\n",
       "    </tr>\n",
       "    <tr>\n",
       "      <th>5</th>\n",
       "      <td>84904</td>\n",
       "      <td>37990</td>\n",
       "      <td>19686</td>\n",
       "      <td>10681</td>\n",
       "      <td>16547</td>\n",
       "      <td>362996</td>\n",
       "      <td>84600</td>\n",
       "      <td>144.0</td>\n",
       "      <td>120.0</td>\n",
       "      <td>96.0</td>\n",
       "      <td>120.0</td>\n",
       "      <td>0.67</td>\n",
       "      <td>6.476660</td>\n",
       "      <td>5.394487</td>\n",
       "    </tr>\n",
       "    <tr>\n",
       "      <th>6</th>\n",
       "      <td>78162</td>\n",
       "      <td>33318</td>\n",
       "      <td>10112</td>\n",
       "      <td>8806</td>\n",
       "      <td>25926</td>\n",
       "      <td>308124</td>\n",
       "      <td>75720</td>\n",
       "      <td>144.0</td>\n",
       "      <td>48.0</td>\n",
       "      <td>96.0</td>\n",
       "      <td>120.0</td>\n",
       "      <td>0.55</td>\n",
       "      <td>5.437597</td>\n",
       "      <td>3.900909</td>\n",
       "    </tr>\n",
       "    <tr>\n",
       "      <th>7</th>\n",
       "      <td>24031</td>\n",
       "      <td>10398</td>\n",
       "      <td>2946</td>\n",
       "      <td>1923</td>\n",
       "      <td>8764</td>\n",
       "      <td>63334</td>\n",
       "      <td>22620</td>\n",
       "      <td>0.0</td>\n",
       "      <td>72.0</td>\n",
       "      <td>0.0</td>\n",
       "      <td>0.0</td>\n",
       "      <td>2.00</td>\n",
       "      <td>2.922810</td>\n",
       "      <td>7.658506</td>\n",
       "    </tr>\n",
       "    <tr>\n",
       "      <th>8</th>\n",
       "      <td>75578</td>\n",
       "      <td>31386</td>\n",
       "      <td>12166</td>\n",
       "      <td>7998</td>\n",
       "      <td>24028</td>\n",
       "      <td>273656</td>\n",
       "      <td>63840</td>\n",
       "      <td>144.0</td>\n",
       "      <td>24.0</td>\n",
       "      <td>96.0</td>\n",
       "      <td>120.0</td>\n",
       "      <td>0.60</td>\n",
       "      <td>5.040559</td>\n",
       "      <td>16.870029</td>\n",
       "    </tr>\n",
       "    <tr>\n",
       "      <th>9</th>\n",
       "      <td>95926</td>\n",
       "      <td>41494</td>\n",
       "      <td>15880</td>\n",
       "      <td>11866</td>\n",
       "      <td>26686</td>\n",
       "      <td>344898</td>\n",
       "      <td>78300</td>\n",
       "      <td>144.0</td>\n",
       "      <td>120.0</td>\n",
       "      <td>96.0</td>\n",
       "      <td>120.0</td>\n",
       "      <td>0.67</td>\n",
       "      <td>4.852317</td>\n",
       "      <td>18.791504</td>\n",
       "    </tr>\n",
       "    <tr>\n",
       "      <th>10</th>\n",
       "      <td>35710</td>\n",
       "      <td>19930</td>\n",
       "      <td>6108</td>\n",
       "      <td>3796</td>\n",
       "      <td>5876</td>\n",
       "      <td>210414</td>\n",
       "      <td>28320</td>\n",
       "      <td>48.0</td>\n",
       "      <td>72.0</td>\n",
       "      <td>0.0</td>\n",
       "      <td>72.0</td>\n",
       "      <td>1.67</td>\n",
       "      <td>6.642077</td>\n",
       "      <td>21.652066</td>\n",
       "    </tr>\n",
       "    <tr>\n",
       "      <th>11</th>\n",
       "      <td>73151</td>\n",
       "      <td>30534</td>\n",
       "      <td>9766</td>\n",
       "      <td>7431</td>\n",
       "      <td>25420</td>\n",
       "      <td>283328</td>\n",
       "      <td>57360</td>\n",
       "      <td>144.0</td>\n",
       "      <td>120.0</td>\n",
       "      <td>0.0</td>\n",
       "      <td>120.0</td>\n",
       "      <td>0.78</td>\n",
       "      <td>5.499449</td>\n",
       "      <td>19.380181</td>\n",
       "    </tr>\n",
       "    <tr>\n",
       "      <th>12</th>\n",
       "      <td>66772</td>\n",
       "      <td>28554</td>\n",
       "      <td>9846</td>\n",
       "      <td>7070</td>\n",
       "      <td>21302</td>\n",
       "      <td>218066</td>\n",
       "      <td>50900</td>\n",
       "      <td>144.0</td>\n",
       "      <td>24.0</td>\n",
       "      <td>0.0</td>\n",
       "      <td>120.0</td>\n",
       "      <td>0.71</td>\n",
       "      <td>3.580030</td>\n",
       "      <td>25.445552</td>\n",
       "    </tr>\n",
       "    <tr>\n",
       "      <th>13</th>\n",
       "      <td>32850</td>\n",
       "      <td>19078</td>\n",
       "      <td>7126</td>\n",
       "      <td>5981</td>\n",
       "      <td>665</td>\n",
       "      <td>259308</td>\n",
       "      <td>25340</td>\n",
       "      <td>48.0</td>\n",
       "      <td>120.0</td>\n",
       "      <td>0.0</td>\n",
       "      <td>120.0</td>\n",
       "      <td>0.71</td>\n",
       "      <td>21.362865</td>\n",
       "      <td>25.503121</td>\n",
       "    </tr>\n",
       "  </tbody>\n",
       "</table>\n",
       "</div>"
      ],
      "text/plain": [
       "            Sales   COGS  Marketing  Non_Marketing_expense  Profit_new  \\\n",
       "ProductId                                                                \n",
       "1           26269  12732       4658                   4239        4640   \n",
       "2          128311  48396      17346                  14027       48542   \n",
       "3           62248  29568      11362                   8393       12925   \n",
       "4           35899  15294       5472                   4977       10156   \n",
       "5           84904  37990      19686                  10681       16547   \n",
       "6           78162  33318      10112                   8806       25926   \n",
       "7           24031  10398       2946                   1923        8764   \n",
       "8           75578  31386      12166                   7998       24028   \n",
       "9           95926  41494      15880                  11866       26686   \n",
       "10          35710  19930       6108                   3796        5876   \n",
       "11          73151  30534       9766                   7431       25420   \n",
       "12          66772  28554       9846                   7070       21302   \n",
       "13          32850  19078       7126                   5981         665   \n",
       "\n",
       "           Inventory  Budget Sales  Market_Central  Market_East  Market_South  \\\n",
       "ProductId                                                                       \n",
       "1             142276         27200            96.0         24.0           0.0   \n",
       "2             339624        134380           144.0        120.0          96.0   \n",
       "3             322054         67040           144.0         24.0          96.0   \n",
       "4              55294         30540             0.0          0.0          96.0   \n",
       "5             362996         84600           144.0        120.0          96.0   \n",
       "6             308124         75720           144.0         48.0          96.0   \n",
       "7              63334         22620             0.0         72.0           0.0   \n",
       "8             273656         63840           144.0         24.0          96.0   \n",
       "9             344898         78300           144.0        120.0          96.0   \n",
       "10            210414         28320            48.0         72.0           0.0   \n",
       "11            283328         57360           144.0        120.0           0.0   \n",
       "12            218066         50900           144.0         24.0           0.0   \n",
       "13            259308         25340            48.0        120.0           0.0   \n",
       "\n",
       "           Market_West  Market_size_ratio  avg_stock_to_sales  \\\n",
       "ProductId                                                       \n",
       "1                 72.0               0.60            6.881992   \n",
       "2                120.0               0.67            3.673540   \n",
       "3                120.0               0.60            6.836576   \n",
       "4                120.0               0.29            2.689181   \n",
       "5                120.0               0.67            6.476660   \n",
       "6                120.0               0.55            5.437597   \n",
       "7                  0.0               2.00            2.922810   \n",
       "8                120.0               0.60            5.040559   \n",
       "9                120.0               0.67            4.852317   \n",
       "10                72.0               1.67            6.642077   \n",
       "11               120.0               0.78            5.499449   \n",
       "12               120.0               0.71            3.580030   \n",
       "13               120.0               0.71           21.362865   \n",
       "\n",
       "           avg_sales_forcast_accuracy  \n",
       "ProductId                              \n",
       "1                           -3.288578  \n",
       "2                           -5.400927  \n",
       "3                           -8.711592  \n",
       "4                           16.585659  \n",
       "5                            5.394487  \n",
       "6                            3.900909  \n",
       "7                            7.658506  \n",
       "8                           16.870029  \n",
       "9                           18.791504  \n",
       "10                          21.652066  \n",
       "11                          19.380181  \n",
       "12                          25.445552  \n",
       "13                          25.503121  "
      ]
     },
     "execution_count": 39,
     "metadata": {},
     "output_type": "execute_result"
    }
   ],
   "source": [
    "# Let's see the dataset created ready for modeling.\n",
    "df3"
   ]
  },
  {
   "cell_type": "markdown",
   "id": "c92d6c30-6058-4baa-ae7c-24801f4e3a49",
   "metadata": {
    "tags": []
   },
   "source": [
    "## 6.3 Principal Component Analysis"
   ]
  },
  {
   "cell_type": "markdown",
   "id": "59d27a06-1ec2-4aa0-9468-da5e00572fc0",
   "metadata": {},
   "source": [
    "<!-- There are obvious relationship between COGS, Expenses and Sales.  So it's better to condoct a PCA to reduce the dimension before cluster analysis. -->"
   ]
  },
  {
   "cell_type": "code",
   "execution_count": 40,
   "id": "6ed0790a-3c30-4b05-967c-dd36cd766ef5",
   "metadata": {},
   "outputs": [],
   "source": [
    "# It's essential to conduct PCA before cluster analysis.  \n",
    "# Plus, considering only 13 products to continue, Feature reduction using PCA is necessary."
   ]
  },
  {
   "cell_type": "code",
   "execution_count": 41,
   "id": "b23e8221-8a51-4173-86e0-a277faf1ff2f",
   "metadata": {},
   "outputs": [
    {
     "data": {
      "text/plain": [
       "Index(['Sales', 'COGS', 'Marketing', 'Non_Marketing_expense', 'Profit_new',\n",
       "       'Inventory', 'Budget Sales', 'Market_Central', 'Market_East',\n",
       "       'Market_South', 'Market_West', 'Market_size_ratio',\n",
       "       'avg_stock_to_sales', 'avg_sales_forcast_accuracy'],\n",
       "      dtype='object')"
      ]
     },
     "execution_count": 41,
     "metadata": {},
     "output_type": "execute_result"
    }
   ],
   "source": [
    "df3.columns\n",
    "# Let's check what features we have"
   ]
  },
  {
   "cell_type": "code",
   "execution_count": 42,
   "id": "ea9b469f-8bf1-4449-ae21-090783c3f025",
   "metadata": {},
   "outputs": [],
   "source": [
    "# Since we want to analyze the common and difference among products,\n",
    "# I pick the following 9 features into PCA and then Cluster to explain how much value products sold, made profit, inventory held and how market size affected.   \n",
    "\n",
    "# 'Sales', 'COGS', 'Marketing', 'Non_Marketing_expense', 'Profit_new', \n",
    "# 'Inventory', 'avg_stock_to_sales', 'avg_sales_forcast_accuracy','Market_size_ratio'"
   ]
  },
  {
   "cell_type": "markdown",
   "id": "212b323c-1f56-4422-9053-a77f3e044324",
   "metadata": {},
   "source": [
    "### 6.3.1 Normalization"
   ]
  },
  {
   "cell_type": "code",
   "execution_count": 43,
   "id": "e583dc24-930e-4dd8-8cfb-5ab122bbd3bf",
   "metadata": {},
   "outputs": [
    {
     "name": "stdout",
     "output_type": "stream",
     "text": [
      "Scaled Dataset Using MinMaxScaler\n"
     ]
    },
    {
     "data": {
      "text/plain": [
       "array([[0.02146145, 0.06142429, 0.10227001, 0.19134171, 0.08302525,\n",
       "        0.2826826 , 0.22453049, 0.15849949, 0.18128655],\n",
       "       [1.        , 1.        , 0.86021505, 1.        , 1.        ,\n",
       "        0.92404339, 0.0527137 , 0.09676145, 0.22222222],\n",
       "       [0.36648446, 0.50450024, 0.50274791, 0.53453404, 0.25607285,\n",
       "        0.86694269, 0.22209841, 0.        , 0.18128655],\n",
       "       [0.11380898, 0.12884889, 0.15089606, 0.25231328, 0.19823715,\n",
       "        0.        , 0.        , 0.73936762, 0.        ],\n",
       "       [0.58374568, 0.72614348, 1.        , 0.72356246, 0.33172505,\n",
       "        1.        , 0.2028244 , 0.41228109, 0.22222222],\n",
       "       [0.51909283, 0.60318964, 0.42807646, 0.56865499, 0.52762287,\n",
       "        0.82167162, 0.14718122, 0.368628  , 0.15204678],\n",
       "       [0.        , 0.        , 0.        , 0.        , 0.16916265,\n",
       "        0.02612918, 0.01251113, 0.47845202, 1.        ],\n",
       "       [0.49431339, 0.55234486, 0.55077658, 0.5019002 , 0.48797961,\n",
       "        0.70965415, 0.12591937, 0.74767897, 0.18128655],\n",
       "       [0.68944189, 0.81835886, 0.77264038, 0.82146398, 0.54349688,\n",
       "        0.94118335, 0.11583874, 0.80383829, 0.22222222],\n",
       "       [0.11199655, 0.25085531, 0.18888889, 0.15474223, 0.10884141,\n",
       "        0.50412412, 0.21168269, 0.88744448, 0.80701754],\n",
       "       [0.47103951, 0.52992263, 0.40740741, 0.45505618, 0.51705412,\n",
       "        0.74108716, 0.15049349, 0.82104366, 0.28654971],\n",
       "       [0.40986766, 0.47781462, 0.41218638, 0.42523133, 0.43104205,\n",
       "        0.52899234, 0.04770612, 0.99831744, 0.24561404],\n",
       "       [0.08457039, 0.22843308, 0.24970131, 0.33526107, 0.        ,\n",
       "        0.66302461, 1.        , 1.        , 0.24561404]])"
      ]
     },
     "execution_count": 43,
     "metadata": {},
     "output_type": "execute_result"
    }
   ],
   "source": [
    "# Before we run PCA, the data needs to be scaled down to the same level.\n",
    "# Here we use MinMaxScaler to do normalization to certain features.\n",
    "\n",
    "# define min max scaler\n",
    "scaler = MinMaxScaler()\n",
    "df_scaled = scaler.fit_transform(df3[['Sales', 'COGS', 'Marketing', 'Non_Marketing_expense', 'Profit_new', 'Inventory', \\\n",
    "                                      'avg_stock_to_sales',\n",
    "                                      'avg_sales_forcast_accuracy','Market_size_ratio']].to_numpy())\n",
    "\n",
    "print(\"Scaled Dataset Using MinMaxScaler\")\n",
    "df_scaled\n",
    "# Here are the 9 features after normalization.  They are now all between 0 and 1."
   ]
  },
  {
   "cell_type": "markdown",
   "id": "0e47eb57-e564-4b32-8075-9778939f89c9",
   "metadata": {},
   "source": [
    "### 6.3.2 Feature Reduction using PCA"
   ]
  },
  {
   "cell_type": "code",
   "execution_count": 44,
   "id": "58970703-40b1-4ae1-a179-59a371c659e8",
   "metadata": {},
   "outputs": [
    {
     "data": {
      "text/html": [
       "<style>#sk-container-id-1 {color: black;background-color: white;}#sk-container-id-1 pre{padding: 0;}#sk-container-id-1 div.sk-toggleable {background-color: white;}#sk-container-id-1 label.sk-toggleable__label {cursor: pointer;display: block;width: 100%;margin-bottom: 0;padding: 0.3em;box-sizing: border-box;text-align: center;}#sk-container-id-1 label.sk-toggleable__label-arrow:before {content: \"▸\";float: left;margin-right: 0.25em;color: #696969;}#sk-container-id-1 label.sk-toggleable__label-arrow:hover:before {color: black;}#sk-container-id-1 div.sk-estimator:hover label.sk-toggleable__label-arrow:before {color: black;}#sk-container-id-1 div.sk-toggleable__content {max-height: 0;max-width: 0;overflow: hidden;text-align: left;background-color: #f0f8ff;}#sk-container-id-1 div.sk-toggleable__content pre {margin: 0.2em;color: black;border-radius: 0.25em;background-color: #f0f8ff;}#sk-container-id-1 input.sk-toggleable__control:checked~div.sk-toggleable__content {max-height: 200px;max-width: 100%;overflow: auto;}#sk-container-id-1 input.sk-toggleable__control:checked~label.sk-toggleable__label-arrow:before {content: \"▾\";}#sk-container-id-1 div.sk-estimator input.sk-toggleable__control:checked~label.sk-toggleable__label {background-color: #d4ebff;}#sk-container-id-1 div.sk-label input.sk-toggleable__control:checked~label.sk-toggleable__label {background-color: #d4ebff;}#sk-container-id-1 input.sk-hidden--visually {border: 0;clip: rect(1px 1px 1px 1px);clip: rect(1px, 1px, 1px, 1px);height: 1px;margin: -1px;overflow: hidden;padding: 0;position: absolute;width: 1px;}#sk-container-id-1 div.sk-estimator {font-family: monospace;background-color: #f0f8ff;border: 1px dotted black;border-radius: 0.25em;box-sizing: border-box;margin-bottom: 0.5em;}#sk-container-id-1 div.sk-estimator:hover {background-color: #d4ebff;}#sk-container-id-1 div.sk-parallel-item::after {content: \"\";width: 100%;border-bottom: 1px solid gray;flex-grow: 1;}#sk-container-id-1 div.sk-label:hover label.sk-toggleable__label {background-color: #d4ebff;}#sk-container-id-1 div.sk-serial::before {content: \"\";position: absolute;border-left: 1px solid gray;box-sizing: border-box;top: 0;bottom: 0;left: 50%;z-index: 0;}#sk-container-id-1 div.sk-serial {display: flex;flex-direction: column;align-items: center;background-color: white;padding-right: 0.2em;padding-left: 0.2em;position: relative;}#sk-container-id-1 div.sk-item {position: relative;z-index: 1;}#sk-container-id-1 div.sk-parallel {display: flex;align-items: stretch;justify-content: center;background-color: white;position: relative;}#sk-container-id-1 div.sk-item::before, #sk-container-id-1 div.sk-parallel-item::before {content: \"\";position: absolute;border-left: 1px solid gray;box-sizing: border-box;top: 0;bottom: 0;left: 50%;z-index: -1;}#sk-container-id-1 div.sk-parallel-item {display: flex;flex-direction: column;z-index: 1;position: relative;background-color: white;}#sk-container-id-1 div.sk-parallel-item:first-child::after {align-self: flex-end;width: 50%;}#sk-container-id-1 div.sk-parallel-item:last-child::after {align-self: flex-start;width: 50%;}#sk-container-id-1 div.sk-parallel-item:only-child::after {width: 0;}#sk-container-id-1 div.sk-dashed-wrapped {border: 1px dashed gray;margin: 0 0.4em 0.5em 0.4em;box-sizing: border-box;padding-bottom: 0.4em;background-color: white;}#sk-container-id-1 div.sk-label label {font-family: monospace;font-weight: bold;display: inline-block;line-height: 1.2em;}#sk-container-id-1 div.sk-label-container {text-align: center;}#sk-container-id-1 div.sk-container {/* jupyter's `normalize.less` sets `[hidden] { display: none; }` but bootstrap.min.css set `[hidden] { display: none !important; }` so we also need the `!important` here to be able to override the default hidden behavior on the sphinx rendered scikit-learn.org. See: https://github.com/scikit-learn/scikit-learn/issues/21755 */display: inline-block !important;position: relative;}#sk-container-id-1 div.sk-text-repr-fallback {display: none;}</style><div id=\"sk-container-id-1\" class=\"sk-top-container\"><div class=\"sk-text-repr-fallback\"><pre>PCA(random_state=35)</pre><b>In a Jupyter environment, please rerun this cell to show the HTML representation or trust the notebook. <br />On GitHub, the HTML representation is unable to render, please try loading this page with nbviewer.org.</b></div><div class=\"sk-container\" hidden><div class=\"sk-item\"><div class=\"sk-estimator sk-toggleable\"><input class=\"sk-toggleable__control sk-hidden--visually\" id=\"sk-estimator-id-1\" type=\"checkbox\" checked><label for=\"sk-estimator-id-1\" class=\"sk-toggleable__label sk-toggleable__label-arrow\">PCA</label><div class=\"sk-toggleable__content\"><pre>PCA(random_state=35)</pre></div></div></div></div></div>"
      ],
      "text/plain": [
       "PCA(random_state=35)"
      ]
     },
     "execution_count": 44,
     "metadata": {},
     "output_type": "execute_result"
    }
   ],
   "source": [
    "# Run PCA with min(sample size =13,n_features = 9) to see how increasing components explain variance.\n",
    "\n",
    "pca = PCA(random_state = 35)\n",
    "pca.fit(df_scaled)"
   ]
  },
  {
   "cell_type": "code",
   "execution_count": 45,
   "id": "c3c57129-b606-4d12-b960-1049e56c768e",
   "metadata": {},
   "outputs": [
    {
     "data": {
      "text/plain": [
       "Text(0, 0.5, 'Cumulative Eplained Variance')"
      ]
     },
     "execution_count": 45,
     "metadata": {},
     "output_type": "execute_result"
    },
    {
     "data": {
      "image/png": "[encoded data removed]",
      "text/plain": [
       "<Figure size 432x288 with 1 Axes>"
      ]
     },
     "metadata": {
      "needs_background": "light"
     },
     "output_type": "display_data"
    }
   ],
   "source": [
    "# The following plot shows how much variance can be explained along with the number of components increasing\n",
    "\n",
    "plt.plot(range(1,len(pca.explained_variance_ratio_)+1),pca.explained_variance_ratio_.cumsum(),marker= 'o')\n",
    "plt.title('Explained Variance by Components')\n",
    "plt.xlabel('Number of Components')\n",
    "plt.ylabel('Cumulative Eplained Variance')"
   ]
  },
  {
   "cell_type": "code",
   "execution_count": 46,
   "id": "47ac3e20-791f-40da-8520-27be35ea130f",
   "metadata": {},
   "outputs": [],
   "source": [
    "# Here we can see 3 components can explain around 90% of variance, which is good enough."
   ]
  },
  {
   "cell_type": "code",
   "execution_count": 47,
   "id": "af62eabe-969b-4b27-803a-b571d6b0fed8",
   "metadata": {},
   "outputs": [],
   "source": [
    "# Let's run PCA wtih 3 components.\n",
    "\n",
    "pca = PCA(3,random_state = 35)\n",
    "df4 = pca.fit_transform(df_scaled)"
   ]
  },
  {
   "cell_type": "code",
   "execution_count": 48,
   "id": "038bf136-c213-48aa-a100-8e07e9066eae",
   "metadata": {},
   "outputs": [
    {
     "data": {
      "text/plain": [
       "array([[-0.69050136, -0.43534136,  0.37917545],\n",
       "       [ 1.30299943, -0.37531767, -0.11791228],\n",
       "       [ 0.25577965, -0.36777758,  0.45540523],\n",
       "       [-0.69882017, -0.111572  , -0.11080571],\n",
       "       [ 0.72519044,  0.05140569,  0.18334722],\n",
       "       [ 0.36626469, -0.13929301,  0.08769494],\n",
       "       [-1.10820739, -0.43422744, -0.3207132 ],\n",
       "       [ 0.23822344,  0.14643753, -0.1286963 ],\n",
       "       [ 0.74388954,  0.28498253, -0.18716297],\n",
       "       [-0.67920692,  0.18186286, -0.22020867],\n",
       "       [ 0.13246394,  0.19746902, -0.19136322],\n",
       "       [-0.05161275,  0.25728415, -0.33293138],\n",
       "       [-0.53646253,  0.74408728,  0.50417088]])"
      ]
     },
     "execution_count": 48,
     "metadata": {},
     "output_type": "execute_result"
    }
   ],
   "source": [
    "# Here is the 3-component array to represent those 9 features and ready for cluster analysis.\n",
    "df4"
   ]
  },
  {
   "cell_type": "markdown",
   "id": "c5c12a72-cba5-4ee8-8e09-5dc97dfec29c",
   "metadata": {},
   "source": [
    "# 7. Cluster Analysis"
   ]
  },
  {
   "cell_type": "markdown",
   "id": "a2e441a7-cf78-4238-a152-a73c30f0c1d5",
   "metadata": {},
   "source": [
    "Here we use one of the most popular Cluster method, K-means Cluster.\n",
    "\n",
    "I did consider and try other cluster methods capable of taking categorical variables, such as K-Modes and K-Prototype.  However, there are only 13 datapoints and our general goal is to focus on sales situation.  Categorical variables like 'Product','Type','State','Market' have affects so strong that can jam sales/profit/inventory/etc. variables' influence.\n",
    "\n",
    "If there are more product to deal with, then K-Prototype may work."
   ]
  },
  {
   "cell_type": "markdown",
   "id": "53f7d205-b747-479c-a974-b66b0293b336",
   "metadata": {},
   "source": [
    "## 7.1 Choosing the Number of Clusters"
   ]
  },
  {
   "cell_type": "code",
   "execution_count": 49,
   "id": "058ce9cc-2728-4282-80ce-5a97213c1cb1",
   "metadata": {},
   "outputs": [
    {
     "data": {
      "image/png": "[encoded data removed]",
      "text/plain": [
       "<Figure size 432x288 with 1 Axes>"
      ]
     },
     "metadata": {
      "needs_background": "light"
     },
     "output_type": "display_data"
    }
   ],
   "source": [
    "# Test how Within Clusters Sum of Squares changes with increasing the number of clusters  \n",
    "\n",
    "wcss = [] # Within Clusters Sum of Squares\n",
    "for k in range(1,11): # try cluster number from 1 to 10\n",
    "    \n",
    "    #  a K-Means instance with k clusters\n",
    "    kcluster = KMeans(n_clusters=k, n_init=10, random_state=35 )\n",
    "    kcluster.fit(df4)\n",
    "    wcss.append(kcluster.inertia_)\n",
    "    \n",
    "plt.plot(range(1,11), wcss, marker = 'o')\n",
    "plt.xlabel('Number of Clusters, k')\n",
    "plt.ylabel('Within Clusters Sum of Squares')\n",
    "plt.show()"
   ]
  },
  {
   "cell_type": "code",
   "execution_count": 50,
   "id": "bdc88055-a0f9-4d3c-b4c4-3f2922ceadef",
   "metadata": {},
   "outputs": [],
   "source": [
    "# Based on the chart, let's choose 4 clusters according to elbow method."
   ]
  },
  {
   "cell_type": "markdown",
   "id": "475c234f-526f-4f1d-8970-7a4b9992134d",
   "metadata": {},
   "source": [
    "## 7.2 Impletement Cluster"
   ]
  },
  {
   "cell_type": "code",
   "execution_count": 51,
   "id": "1eff7c02-c162-47e8-a673-97fe5fbb0bbf",
   "metadata": {},
   "outputs": [
    {
     "data": {
      "text/html": [
       "<style>#sk-container-id-2 {color: black;background-color: white;}#sk-container-id-2 pre{padding: 0;}#sk-container-id-2 div.sk-toggleable {background-color: white;}#sk-container-id-2 label.sk-toggleable__label {cursor: pointer;display: block;width: 100%;margin-bottom: 0;padding: 0.3em;box-sizing: border-box;text-align: center;}#sk-container-id-2 label.sk-toggleable__label-arrow:before {content: \"▸\";float: left;margin-right: 0.25em;color: #696969;}#sk-container-id-2 label.sk-toggleable__label-arrow:hover:before {color: black;}#sk-container-id-2 div.sk-estimator:hover label.sk-toggleable__label-arrow:before {color: black;}#sk-container-id-2 div.sk-toggleable__content {max-height: 0;max-width: 0;overflow: hidden;text-align: left;background-color: #f0f8ff;}#sk-container-id-2 div.sk-toggleable__content pre {margin: 0.2em;color: black;border-radius: 0.25em;background-color: #f0f8ff;}#sk-container-id-2 input.sk-toggleable__control:checked~div.sk-toggleable__content {max-height: 200px;max-width: 100%;overflow: auto;}#sk-container-id-2 input.sk-toggleable__control:checked~label.sk-toggleable__label-arrow:before {content: \"▾\";}#sk-container-id-2 div.sk-estimator input.sk-toggleable__control:checked~label.sk-toggleable__label {background-color: #d4ebff;}#sk-container-id-2 div.sk-label input.sk-toggleable__control:checked~label.sk-toggleable__label {background-color: #d4ebff;}#sk-container-id-2 input.sk-hidden--visually {border: 0;clip: rect(1px 1px 1px 1px);clip: rect(1px, 1px, 1px, 1px);height: 1px;margin: -1px;overflow: hidden;padding: 0;position: absolute;width: 1px;}#sk-container-id-2 div.sk-estimator {font-family: monospace;background-color: #f0f8ff;border: 1px dotted black;border-radius: 0.25em;box-sizing: border-box;margin-bottom: 0.5em;}#sk-container-id-2 div.sk-estimator:hover {background-color: #d4ebff;}#sk-container-id-2 div.sk-parallel-item::after {content: \"\";width: 100%;border-bottom: 1px solid gray;flex-grow: 1;}#sk-container-id-2 div.sk-label:hover label.sk-toggleable__label {background-color: #d4ebff;}#sk-container-id-2 div.sk-serial::before {content: \"\";position: absolute;border-left: 1px solid gray;box-sizing: border-box;top: 0;bottom: 0;left: 50%;z-index: 0;}#sk-container-id-2 div.sk-serial {display: flex;flex-direction: column;align-items: center;background-color: white;padding-right: 0.2em;padding-left: 0.2em;position: relative;}#sk-container-id-2 div.sk-item {position: relative;z-index: 1;}#sk-container-id-2 div.sk-parallel {display: flex;align-items: stretch;justify-content: center;background-color: white;position: relative;}#sk-container-id-2 div.sk-item::before, #sk-container-id-2 div.sk-parallel-item::before {content: \"\";position: absolute;border-left: 1px solid gray;box-sizing: border-box;top: 0;bottom: 0;left: 50%;z-index: -1;}#sk-container-id-2 div.sk-parallel-item {display: flex;flex-direction: column;z-index: 1;position: relative;background-color: white;}#sk-container-id-2 div.sk-parallel-item:first-child::after {align-self: flex-end;width: 50%;}#sk-container-id-2 div.sk-parallel-item:last-child::after {align-self: flex-start;width: 50%;}#sk-container-id-2 div.sk-parallel-item:only-child::after {width: 0;}#sk-container-id-2 div.sk-dashed-wrapped {border: 1px dashed gray;margin: 0 0.4em 0.5em 0.4em;box-sizing: border-box;padding-bottom: 0.4em;background-color: white;}#sk-container-id-2 div.sk-label label {font-family: monospace;font-weight: bold;display: inline-block;line-height: 1.2em;}#sk-container-id-2 div.sk-label-container {text-align: center;}#sk-container-id-2 div.sk-container {/* jupyter's `normalize.less` sets `[hidden] { display: none; }` but bootstrap.min.css set `[hidden] { display: none !important; }` so we also need the `!important` here to be able to override the default hidden behavior on the sphinx rendered scikit-learn.org. See: https://github.com/scikit-learn/scikit-learn/issues/21755 */display: inline-block !important;position: relative;}#sk-container-id-2 div.sk-text-repr-fallback {display: none;}</style><div id=\"sk-container-id-2\" class=\"sk-top-container\"><div class=\"sk-text-repr-fallback\"><pre>KMeans(n_clusters=4, n_init=10, random_state=35)</pre><b>In a Jupyter environment, please rerun this cell to show the HTML representation or trust the notebook. <br />On GitHub, the HTML representation is unable to render, please try loading this page with nbviewer.org.</b></div><div class=\"sk-container\" hidden><div class=\"sk-item\"><div class=\"sk-estimator sk-toggleable\"><input class=\"sk-toggleable__control sk-hidden--visually\" id=\"sk-estimator-id-2\" type=\"checkbox\" checked><label for=\"sk-estimator-id-2\" class=\"sk-toggleable__label sk-toggleable__label-arrow\">KMeans</label><div class=\"sk-toggleable__content\"><pre>KMeans(n_clusters=4, n_init=10, random_state=35)</pre></div></div></div></div></div>"
      ],
      "text/plain": [
       "KMeans(n_clusters=4, n_init=10, random_state=35)"
      ]
     },
     "execution_count": 51,
     "metadata": {},
     "output_type": "execute_result"
    }
   ],
   "source": [
    "# Construct K-means method with 4 cluster\n",
    "kmean_pca = KMeans(n_clusters= 4, n_init=10, random_state=35 )\n",
    "\n",
    "# Fit model to samples\n",
    "kmean_pca.fit(df4)"
   ]
  },
  {
   "cell_type": "code",
   "execution_count": 52,
   "id": "b37691b4-023f-4109-80aa-516002649bc7",
   "metadata": {},
   "outputs": [
    {
     "data": {
      "text/plain": [
       "array([1, 0, 2, 1, 0, 2, 1, 2, 0, 1, 2, 2, 3], dtype=int32)"
      ]
     },
     "execution_count": 52,
     "metadata": {},
     "output_type": "execute_result"
    }
   ],
   "source": [
    "# Check generated cluster number/label\n",
    "kmean_pca.labels_"
   ]
  },
  {
   "cell_type": "code",
   "execution_count": 53,
   "id": "320cf28d-c340-46ea-8b68-293cc6d0921d",
   "metadata": {},
   "outputs": [],
   "source": [
    "# Now let's go back to df3, the table before we jumped into PCA.\n",
    "# Attach all 3 components and cluster_number to the df3 and get a new dataset, df5\n",
    "\n",
    "df5 = pd.concat([df3.reset_index(),pd.DataFrame(df4)], axis = 1).copy()\n",
    "df5.columns.values[-3:] = ['comp_1','comp_2','comp_3']\n",
    "df5['Cluster_number'] = kmean_pca.labels_\n",
    "df5.set_index('ProductId', inplace=True)"
   ]
  },
  {
   "cell_type": "code",
   "execution_count": 54,
   "id": "acf7d1ea-f912-4363-b197-384e14a0d98e",
   "metadata": {},
   "outputs": [
    {
     "data": {
      "text/html": [
       "<div>\n",
       "<style scoped>\n",
       "    .dataframe tbody tr th:only-of-type {\n",
       "        vertical-align: middle;\n",
       "    }\n",
       "\n",
       "    .dataframe tbody tr th {\n",
       "        vertical-align: top;\n",
       "    }\n",
       "\n",
       "    .dataframe thead th {\n",
       "        text-align: right;\n",
       "    }\n",
       "</style>\n",
       "<table border=\"1\" class=\"dataframe\">\n",
       "  <thead>\n",
       "    <tr style=\"text-align: right;\">\n",
       "      <th></th>\n",
       "      <th>Sales</th>\n",
       "      <th>COGS</th>\n",
       "      <th>Marketing</th>\n",
       "      <th>Non_Marketing_expense</th>\n",
       "      <th>Profit_new</th>\n",
       "      <th>Inventory</th>\n",
       "      <th>Budget Sales</th>\n",
       "      <th>Market_Central</th>\n",
       "      <th>Market_East</th>\n",
       "      <th>Market_South</th>\n",
       "      <th>Market_West</th>\n",
       "      <th>Market_size_ratio</th>\n",
       "      <th>avg_stock_to_sales</th>\n",
       "      <th>avg_sales_forcast_accuracy</th>\n",
       "      <th>comp_1</th>\n",
       "      <th>comp_2</th>\n",
       "      <th>comp_3</th>\n",
       "      <th>Cluster_number</th>\n",
       "    </tr>\n",
       "    <tr>\n",
       "      <th>ProductId</th>\n",
       "      <th></th>\n",
       "      <th></th>\n",
       "      <th></th>\n",
       "      <th></th>\n",
       "      <th></th>\n",
       "      <th></th>\n",
       "      <th></th>\n",
       "      <th></th>\n",
       "      <th></th>\n",
       "      <th></th>\n",
       "      <th></th>\n",
       "      <th></th>\n",
       "      <th></th>\n",
       "      <th></th>\n",
       "      <th></th>\n",
       "      <th></th>\n",
       "      <th></th>\n",
       "      <th></th>\n",
       "    </tr>\n",
       "  </thead>\n",
       "  <tbody>\n",
       "    <tr>\n",
       "      <th>1</th>\n",
       "      <td>26269</td>\n",
       "      <td>12732</td>\n",
       "      <td>4658</td>\n",
       "      <td>4239</td>\n",
       "      <td>4640</td>\n",
       "      <td>142276</td>\n",
       "      <td>27200</td>\n",
       "      <td>96.0</td>\n",
       "      <td>24.0</td>\n",
       "      <td>0.0</td>\n",
       "      <td>72.0</td>\n",
       "      <td>0.60</td>\n",
       "      <td>6.881992</td>\n",
       "      <td>-3.288578</td>\n",
       "      <td>-0.690501</td>\n",
       "      <td>-0.435341</td>\n",
       "      <td>0.379175</td>\n",
       "      <td>1</td>\n",
       "    </tr>\n",
       "    <tr>\n",
       "      <th>2</th>\n",
       "      <td>128311</td>\n",
       "      <td>48396</td>\n",
       "      <td>17346</td>\n",
       "      <td>14027</td>\n",
       "      <td>48542</td>\n",
       "      <td>339624</td>\n",
       "      <td>134380</td>\n",
       "      <td>144.0</td>\n",
       "      <td>120.0</td>\n",
       "      <td>96.0</td>\n",
       "      <td>120.0</td>\n",
       "      <td>0.67</td>\n",
       "      <td>3.673540</td>\n",
       "      <td>-5.400927</td>\n",
       "      <td>1.302999</td>\n",
       "      <td>-0.375318</td>\n",
       "      <td>-0.117912</td>\n",
       "      <td>0</td>\n",
       "    </tr>\n",
       "    <tr>\n",
       "      <th>3</th>\n",
       "      <td>62248</td>\n",
       "      <td>29568</td>\n",
       "      <td>11362</td>\n",
       "      <td>8393</td>\n",
       "      <td>12925</td>\n",
       "      <td>322054</td>\n",
       "      <td>67040</td>\n",
       "      <td>144.0</td>\n",
       "      <td>24.0</td>\n",
       "      <td>96.0</td>\n",
       "      <td>120.0</td>\n",
       "      <td>0.60</td>\n",
       "      <td>6.836576</td>\n",
       "      <td>-8.711592</td>\n",
       "      <td>0.255780</td>\n",
       "      <td>-0.367778</td>\n",
       "      <td>0.455405</td>\n",
       "      <td>2</td>\n",
       "    </tr>\n",
       "    <tr>\n",
       "      <th>4</th>\n",
       "      <td>35899</td>\n",
       "      <td>15294</td>\n",
       "      <td>5472</td>\n",
       "      <td>4977</td>\n",
       "      <td>10156</td>\n",
       "      <td>55294</td>\n",
       "      <td>30540</td>\n",
       "      <td>0.0</td>\n",
       "      <td>0.0</td>\n",
       "      <td>96.0</td>\n",
       "      <td>120.0</td>\n",
       "      <td>0.29</td>\n",
       "      <td>2.689181</td>\n",
       "      <td>16.585659</td>\n",
       "      <td>-0.698820</td>\n",
       "      <td>-0.111572</td>\n",
       "      <td>-0.110806</td>\n",
       "      <td>1</td>\n",
       "    </tr>\n",
       "    <tr>\n",
       "      <th>5</th>\n",
       "      <td>84904</td>\n",
       "      <td>37990</td>\n",
       "      <td>19686</td>\n",
       "      <td>10681</td>\n",
       "      <td>16547</td>\n",
       "      <td>362996</td>\n",
       "      <td>84600</td>\n",
       "      <td>144.0</td>\n",
       "      <td>120.0</td>\n",
       "      <td>96.0</td>\n",
       "      <td>120.0</td>\n",
       "      <td>0.67</td>\n",
       "      <td>6.476660</td>\n",
       "      <td>5.394487</td>\n",
       "      <td>0.725190</td>\n",
       "      <td>0.051406</td>\n",
       "      <td>0.183347</td>\n",
       "      <td>0</td>\n",
       "    </tr>\n",
       "    <tr>\n",
       "      <th>6</th>\n",
       "      <td>78162</td>\n",
       "      <td>33318</td>\n",
       "      <td>10112</td>\n",
       "      <td>8806</td>\n",
       "      <td>25926</td>\n",
       "      <td>308124</td>\n",
       "      <td>75720</td>\n",
       "      <td>144.0</td>\n",
       "      <td>48.0</td>\n",
       "      <td>96.0</td>\n",
       "      <td>120.0</td>\n",
       "      <td>0.55</td>\n",
       "      <td>5.437597</td>\n",
       "      <td>3.900909</td>\n",
       "      <td>0.366265</td>\n",
       "      <td>-0.139293</td>\n",
       "      <td>0.087695</td>\n",
       "      <td>2</td>\n",
       "    </tr>\n",
       "    <tr>\n",
       "      <th>7</th>\n",
       "      <td>24031</td>\n",
       "      <td>10398</td>\n",
       "      <td>2946</td>\n",
       "      <td>1923</td>\n",
       "      <td>8764</td>\n",
       "      <td>63334</td>\n",
       "      <td>22620</td>\n",
       "      <td>0.0</td>\n",
       "      <td>72.0</td>\n",
       "      <td>0.0</td>\n",
       "      <td>0.0</td>\n",
       "      <td>2.00</td>\n",
       "      <td>2.922810</td>\n",
       "      <td>7.658506</td>\n",
       "      <td>-1.108207</td>\n",
       "      <td>-0.434227</td>\n",
       "      <td>-0.320713</td>\n",
       "      <td>1</td>\n",
       "    </tr>\n",
       "    <tr>\n",
       "      <th>8</th>\n",
       "      <td>75578</td>\n",
       "      <td>31386</td>\n",
       "      <td>12166</td>\n",
       "      <td>7998</td>\n",
       "      <td>24028</td>\n",
       "      <td>273656</td>\n",
       "      <td>63840</td>\n",
       "      <td>144.0</td>\n",
       "      <td>24.0</td>\n",
       "      <td>96.0</td>\n",
       "      <td>120.0</td>\n",
       "      <td>0.60</td>\n",
       "      <td>5.040559</td>\n",
       "      <td>16.870029</td>\n",
       "      <td>0.238223</td>\n",
       "      <td>0.146438</td>\n",
       "      <td>-0.128696</td>\n",
       "      <td>2</td>\n",
       "    </tr>\n",
       "    <tr>\n",
       "      <th>9</th>\n",
       "      <td>95926</td>\n",
       "      <td>41494</td>\n",
       "      <td>15880</td>\n",
       "      <td>11866</td>\n",
       "      <td>26686</td>\n",
       "      <td>344898</td>\n",
       "      <td>78300</td>\n",
       "      <td>144.0</td>\n",
       "      <td>120.0</td>\n",
       "      <td>96.0</td>\n",
       "      <td>120.0</td>\n",
       "      <td>0.67</td>\n",
       "      <td>4.852317</td>\n",
       "      <td>18.791504</td>\n",
       "      <td>0.743890</td>\n",
       "      <td>0.284983</td>\n",
       "      <td>-0.187163</td>\n",
       "      <td>0</td>\n",
       "    </tr>\n",
       "    <tr>\n",
       "      <th>10</th>\n",
       "      <td>35710</td>\n",
       "      <td>19930</td>\n",
       "      <td>6108</td>\n",
       "      <td>3796</td>\n",
       "      <td>5876</td>\n",
       "      <td>210414</td>\n",
       "      <td>28320</td>\n",
       "      <td>48.0</td>\n",
       "      <td>72.0</td>\n",
       "      <td>0.0</td>\n",
       "      <td>72.0</td>\n",
       "      <td>1.67</td>\n",
       "      <td>6.642077</td>\n",
       "      <td>21.652066</td>\n",
       "      <td>-0.679207</td>\n",
       "      <td>0.181863</td>\n",
       "      <td>-0.220209</td>\n",
       "      <td>1</td>\n",
       "    </tr>\n",
       "    <tr>\n",
       "      <th>11</th>\n",
       "      <td>73151</td>\n",
       "      <td>30534</td>\n",
       "      <td>9766</td>\n",
       "      <td>7431</td>\n",
       "      <td>25420</td>\n",
       "      <td>283328</td>\n",
       "      <td>57360</td>\n",
       "      <td>144.0</td>\n",
       "      <td>120.0</td>\n",
       "      <td>0.0</td>\n",
       "      <td>120.0</td>\n",
       "      <td>0.78</td>\n",
       "      <td>5.499449</td>\n",
       "      <td>19.380181</td>\n",
       "      <td>0.132464</td>\n",
       "      <td>0.197469</td>\n",
       "      <td>-0.191363</td>\n",
       "      <td>2</td>\n",
       "    </tr>\n",
       "    <tr>\n",
       "      <th>12</th>\n",
       "      <td>66772</td>\n",
       "      <td>28554</td>\n",
       "      <td>9846</td>\n",
       "      <td>7070</td>\n",
       "      <td>21302</td>\n",
       "      <td>218066</td>\n",
       "      <td>50900</td>\n",
       "      <td>144.0</td>\n",
       "      <td>24.0</td>\n",
       "      <td>0.0</td>\n",
       "      <td>120.0</td>\n",
       "      <td>0.71</td>\n",
       "      <td>3.580030</td>\n",
       "      <td>25.445552</td>\n",
       "      <td>-0.051613</td>\n",
       "      <td>0.257284</td>\n",
       "      <td>-0.332931</td>\n",
       "      <td>2</td>\n",
       "    </tr>\n",
       "    <tr>\n",
       "      <th>13</th>\n",
       "      <td>32850</td>\n",
       "      <td>19078</td>\n",
       "      <td>7126</td>\n",
       "      <td>5981</td>\n",
       "      <td>665</td>\n",
       "      <td>259308</td>\n",
       "      <td>25340</td>\n",
       "      <td>48.0</td>\n",
       "      <td>120.0</td>\n",
       "      <td>0.0</td>\n",
       "      <td>120.0</td>\n",
       "      <td>0.71</td>\n",
       "      <td>21.362865</td>\n",
       "      <td>25.503121</td>\n",
       "      <td>-0.536463</td>\n",
       "      <td>0.744087</td>\n",
       "      <td>0.504171</td>\n",
       "      <td>3</td>\n",
       "    </tr>\n",
       "  </tbody>\n",
       "</table>\n",
       "</div>"
      ],
      "text/plain": [
       "            Sales   COGS  Marketing  Non_Marketing_expense  Profit_new  \\\n",
       "ProductId                                                                \n",
       "1           26269  12732       4658                   4239        4640   \n",
       "2          128311  48396      17346                  14027       48542   \n",
       "3           62248  29568      11362                   8393       12925   \n",
       "4           35899  15294       5472                   4977       10156   \n",
       "5           84904  37990      19686                  10681       16547   \n",
       "6           78162  33318      10112                   8806       25926   \n",
       "7           24031  10398       2946                   1923        8764   \n",
       "8           75578  31386      12166                   7998       24028   \n",
       "9           95926  41494      15880                  11866       26686   \n",
       "10          35710  19930       6108                   3796        5876   \n",
       "11          73151  30534       9766                   7431       25420   \n",
       "12          66772  28554       9846                   7070       21302   \n",
       "13          32850  19078       7126                   5981         665   \n",
       "\n",
       "           Inventory  Budget Sales  Market_Central  Market_East  Market_South  \\\n",
       "ProductId                                                                       \n",
       "1             142276         27200            96.0         24.0           0.0   \n",
       "2             339624        134380           144.0        120.0          96.0   \n",
       "3             322054         67040           144.0         24.0          96.0   \n",
       "4              55294         30540             0.0          0.0          96.0   \n",
       "5             362996         84600           144.0        120.0          96.0   \n",
       "6             308124         75720           144.0         48.0          96.0   \n",
       "7              63334         22620             0.0         72.0           0.0   \n",
       "8             273656         63840           144.0         24.0          96.0   \n",
       "9             344898         78300           144.0        120.0          96.0   \n",
       "10            210414         28320            48.0         72.0           0.0   \n",
       "11            283328         57360           144.0        120.0           0.0   \n",
       "12            218066         50900           144.0         24.0           0.0   \n",
       "13            259308         25340            48.0        120.0           0.0   \n",
       "\n",
       "           Market_West  Market_size_ratio  avg_stock_to_sales  \\\n",
       "ProductId                                                       \n",
       "1                 72.0               0.60            6.881992   \n",
       "2                120.0               0.67            3.673540   \n",
       "3                120.0               0.60            6.836576   \n",
       "4                120.0               0.29            2.689181   \n",
       "5                120.0               0.67            6.476660   \n",
       "6                120.0               0.55            5.437597   \n",
       "7                  0.0               2.00            2.922810   \n",
       "8                120.0               0.60            5.040559   \n",
       "9                120.0               0.67            4.852317   \n",
       "10                72.0               1.67            6.642077   \n",
       "11               120.0               0.78            5.499449   \n",
       "12               120.0               0.71            3.580030   \n",
       "13               120.0               0.71           21.362865   \n",
       "\n",
       "           avg_sales_forcast_accuracy    comp_1    comp_2    comp_3  \\\n",
       "ProductId                                                             \n",
       "1                           -3.288578 -0.690501 -0.435341  0.379175   \n",
       "2                           -5.400927  1.302999 -0.375318 -0.117912   \n",
       "3                           -8.711592  0.255780 -0.367778  0.455405   \n",
       "4                           16.585659 -0.698820 -0.111572 -0.110806   \n",
       "5                            5.394487  0.725190  0.051406  0.183347   \n",
       "6                            3.900909  0.366265 -0.139293  0.087695   \n",
       "7                            7.658506 -1.108207 -0.434227 -0.320713   \n",
       "8                           16.870029  0.238223  0.146438 -0.128696   \n",
       "9                           18.791504  0.743890  0.284983 -0.187163   \n",
       "10                          21.652066 -0.679207  0.181863 -0.220209   \n",
       "11                          19.380181  0.132464  0.197469 -0.191363   \n",
       "12                          25.445552 -0.051613  0.257284 -0.332931   \n",
       "13                          25.503121 -0.536463  0.744087  0.504171   \n",
       "\n",
       "           Cluster_number  \n",
       "ProductId                  \n",
       "1                       1  \n",
       "2                       0  \n",
       "3                       2  \n",
       "4                       1  \n",
       "5                       0  \n",
       "6                       2  \n",
       "7                       1  \n",
       "8                       2  \n",
       "9                       0  \n",
       "10                      1  \n",
       "11                      2  \n",
       "12                      2  \n",
       "13                      3  "
      ]
     },
     "execution_count": 54,
     "metadata": {},
     "output_type": "execute_result"
    }
   ],
   "source": [
    "df5\n",
    "# Sales information on product level with cluster number assigned"
   ]
  },
  {
   "cell_type": "code",
   "execution_count": 55,
   "id": "4aaa37f4-d9aa-47b5-98d3-280db3cbbd83",
   "metadata": {},
   "outputs": [
    {
     "data": {
      "text/plain": [
       "Cluster_number\n",
       "0            [2, 5, 9]\n",
       "1        [1, 4, 7, 10]\n",
       "2    [3, 6, 8, 11, 12]\n",
       "3                 [13]\n",
       "dtype: object"
      ]
     },
     "execution_count": 55,
     "metadata": {},
     "output_type": "execute_result"
    }
   ],
   "source": [
    "# The distribution of products\n",
    "df5.reset_index().groupby('Cluster_number').apply(lambda x: list(x.ProductId))"
   ]
  },
  {
   "cell_type": "markdown",
   "id": "f03c66cb-2fbe-46e7-8178-8b18f707c1c9",
   "metadata": {},
   "source": [
    "## 7.3 Cluster visualizations"
   ]
  },
  {
   "cell_type": "code",
   "execution_count": 56,
   "id": "d3abc37c-d8a1-4bd9-b6a1-c5329b8171f2",
   "metadata": {},
   "outputs": [
    {
     "data": {
      "image/png": "[encoded data removed]",
      "text/plain": [
       "<Figure size 432x288 with 1 Axes>"
      ]
     },
     "metadata": {
      "needs_background": "light"
     },
     "output_type": "display_data"
    }
   ],
   "source": [
    "# We use 3 components to cluster 13 products.\n",
    "# Here we plot how 13 products are distributed and assigned to 4 cluster in the view of component 1 and component 2.\n",
    "\n",
    "sns.scatterplot(data=df5, x='comp_1', y='comp_2', hue = 'Cluster_number',palette=['c','b','g','r'])\n",
    "plt.title('Clusters by PCA Componenets')\n",
    "plt.show()"
   ]
  },
  {
   "cell_type": "code",
   "execution_count": 57,
   "id": "b769756e-2834-4fea-9abd-92d506e04221",
   "metadata": {},
   "outputs": [],
   "source": [
    "# From the above scatter plot, product 3, which we see poor sales in the session 5.2, is now assigned to cluster 3 alone."
   ]
  },
  {
   "cell_type": "code",
   "execution_count": 58,
   "id": "ae65edc7-fcce-428a-ae11-5636f432c219",
   "metadata": {},
   "outputs": [
    {
     "data": {
      "image/png": "[encoded data removed]",
      "text/plain": [
       "<Figure size 720x720 with 1 Axes>"
      ]
     },
     "metadata": {
      "needs_background": "light"
     },
     "output_type": "display_data"
    }
   ],
   "source": [
    "# Since we have 3 conponents, a 3-D plot is more straight forward.\n",
    "\n",
    "fig = plt.figure(figsize = (10,10))\n",
    "ax = fig.add_subplot(111, projection='3d')\n",
    "\n",
    "clust_0 = df5[df5['Cluster_number'] == 0]\n",
    "clust_1 = df5[df5['Cluster_number'] == 1]\n",
    "clust_2 = df5[df5['Cluster_number'] == 2]\n",
    "clust_3 = df5[df5['Cluster_number'] == 3]\n",
    "\n",
    "ax.scatter(clust_0['comp_1'],clust_0['comp_2'],clust_0['comp_3'], s = 40 , color = 'green', label = \"cluster 0\")\n",
    "ax.scatter(clust_1['comp_1'],clust_1['comp_2'],clust_1['comp_3'], s = 40 , color = 'orange', label = \"cluster 1\")\n",
    "ax.scatter(clust_2['comp_1'],clust_2['comp_2'],clust_2['comp_3'], s = 40 , color = 'blue', label = \"cluster 2\")\n",
    "ax.scatter(clust_3['comp_1'],clust_3['comp_2'],clust_3['comp_3'], s = 40 , color = 'pink', label = \"cluster 3\")\n",
    "\n",
    "ax.set_title(\"K-means Cluster in 3-D\")\n",
    "ax.set_xlabel(\"Component 1\")\n",
    "ax.set_ylabel(\"Component 2\")\n",
    "ax.set_zlabel(\"Component 3\")\n",
    "ax.legend()\n",
    "\n",
    "plt.show()"
   ]
  },
  {
   "cell_type": "code",
   "execution_count": 59,
   "id": "dd8a03be-4892-4f90-8696-42eb7e3c0968",
   "metadata": {},
   "outputs": [],
   "source": [
    "# The 3-D scatter plot shows all 13 products are well assigned to 4 clusters.  And all clusters have significant distance between each other."
   ]
  },
  {
   "cell_type": "code",
   "execution_count": 60,
   "id": "8c645a4d-6e42-4819-a08f-a760f9d2ae5a",
   "metadata": {},
   "outputs": [
    {
     "data": {
      "text/plain": [
       "Index(['Sales', 'COGS', 'Marketing', 'Non_Marketing_expense', 'Profit_new',\n",
       "       'Inventory', 'Budget Sales', 'Market_Central', 'Market_East',\n",
       "       'Market_South', 'Market_West', 'Market_size_ratio',\n",
       "       'avg_stock_to_sales', 'avg_sales_forcast_accuracy', 'comp_1', 'comp_2',\n",
       "       'comp_3', 'Cluster_number'],\n",
       "      dtype='object')"
      ]
     },
     "execution_count": 60,
     "metadata": {},
     "output_type": "execute_result"
    }
   ],
   "source": [
    "df5.columns"
   ]
  },
  {
   "cell_type": "markdown",
   "id": "80bbea6e-b098-4dce-af0a-2c17de0e90c4",
   "metadata": {},
   "source": [
    "# 8. Product profiling"
   ]
  },
  {
   "cell_type": "code",
   "execution_count": 61,
   "id": "0deba8ef-a524-4be4-837d-d6a9b30f214d",
   "metadata": {},
   "outputs": [],
   "source": [
    "# After clustering 13 products into 4 groups, it's time to profile each cluster."
   ]
  },
  {
   "cell_type": "code",
   "execution_count": 62,
   "id": "9a3d95b7-b66c-4975-a69c-9ba5b405d354",
   "metadata": {},
   "outputs": [
    {
     "data": {
      "text/html": [
       "<div>\n",
       "<style scoped>\n",
       "    .dataframe tbody tr th:only-of-type {\n",
       "        vertical-align: middle;\n",
       "    }\n",
       "\n",
       "    .dataframe tbody tr th {\n",
       "        vertical-align: top;\n",
       "    }\n",
       "\n",
       "    .dataframe thead th {\n",
       "        text-align: right;\n",
       "    }\n",
       "</style>\n",
       "<table border=\"1\" class=\"dataframe\">\n",
       "  <thead>\n",
       "    <tr style=\"text-align: right;\">\n",
       "      <th></th>\n",
       "      <th>Area Code</th>\n",
       "      <th>State</th>\n",
       "      <th>Sales</th>\n",
       "      <th>COGS</th>\n",
       "      <th>Total Expenses</th>\n",
       "      <th>Marketing</th>\n",
       "      <th>Inventory</th>\n",
       "      <th>Budget Profit</th>\n",
       "      <th>Budget COGS</th>\n",
       "      <th>Budget Margin</th>\n",
       "      <th>...</th>\n",
       "      <th>Non_Marketing_expense</th>\n",
       "      <th>Market_Central</th>\n",
       "      <th>Market_East</th>\n",
       "      <th>Market_South</th>\n",
       "      <th>Market_West</th>\n",
       "      <th>Market Size_Major Market</th>\n",
       "      <th>Market Size_Small Market</th>\n",
       "      <th>sales_forcast_accuracy</th>\n",
       "      <th>stock_to_sales</th>\n",
       "      <th>Cluster_number</th>\n",
       "    </tr>\n",
       "  </thead>\n",
       "  <tbody>\n",
       "    <tr>\n",
       "      <th>0</th>\n",
       "      <td>203</td>\n",
       "      <td>Connecticut</td>\n",
       "      <td>292</td>\n",
       "      <td>116</td>\n",
       "      <td>69</td>\n",
       "      <td>38</td>\n",
       "      <td>962</td>\n",
       "      <td>110</td>\n",
       "      <td>110</td>\n",
       "      <td>160</td>\n",
       "      <td>...</td>\n",
       "      <td>31</td>\n",
       "      <td>0</td>\n",
       "      <td>1</td>\n",
       "      <td>0</td>\n",
       "      <td>0</td>\n",
       "      <td>0</td>\n",
       "      <td>1</td>\n",
       "      <td>7.534247</td>\n",
       "      <td>3.294521</td>\n",
       "      <td>0</td>\n",
       "    </tr>\n",
       "    <tr>\n",
       "      <th>1</th>\n",
       "      <td>203</td>\n",
       "      <td>Connecticut</td>\n",
       "      <td>225</td>\n",
       "      <td>90</td>\n",
       "      <td>60</td>\n",
       "      <td>29</td>\n",
       "      <td>1148</td>\n",
       "      <td>90</td>\n",
       "      <td>80</td>\n",
       "      <td>130</td>\n",
       "      <td>...</td>\n",
       "      <td>31</td>\n",
       "      <td>0</td>\n",
       "      <td>1</td>\n",
       "      <td>0</td>\n",
       "      <td>0</td>\n",
       "      <td>0</td>\n",
       "      <td>1</td>\n",
       "      <td>6.666667</td>\n",
       "      <td>5.102222</td>\n",
       "      <td>0</td>\n",
       "    </tr>\n",
       "    <tr>\n",
       "      <th>2</th>\n",
       "      <td>203</td>\n",
       "      <td>Connecticut</td>\n",
       "      <td>325</td>\n",
       "      <td>130</td>\n",
       "      <td>73</td>\n",
       "      <td>42</td>\n",
       "      <td>1134</td>\n",
       "      <td>130</td>\n",
       "      <td>110</td>\n",
       "      <td>180</td>\n",
       "      <td>...</td>\n",
       "      <td>31</td>\n",
       "      <td>0</td>\n",
       "      <td>1</td>\n",
       "      <td>0</td>\n",
       "      <td>0</td>\n",
       "      <td>0</td>\n",
       "      <td>1</td>\n",
       "      <td>10.769231</td>\n",
       "      <td>3.489231</td>\n",
       "      <td>0</td>\n",
       "    </tr>\n",
       "    <tr>\n",
       "      <th>3</th>\n",
       "      <td>203</td>\n",
       "      <td>Connecticut</td>\n",
       "      <td>289</td>\n",
       "      <td>115</td>\n",
       "      <td>69</td>\n",
       "      <td>37</td>\n",
       "      <td>1166</td>\n",
       "      <td>110</td>\n",
       "      <td>100</td>\n",
       "      <td>160</td>\n",
       "      <td>...</td>\n",
       "      <td>32</td>\n",
       "      <td>0</td>\n",
       "      <td>1</td>\n",
       "      <td>0</td>\n",
       "      <td>0</td>\n",
       "      <td>0</td>\n",
       "      <td>1</td>\n",
       "      <td>10.034602</td>\n",
       "      <td>4.034602</td>\n",
       "      <td>0</td>\n",
       "    </tr>\n",
       "    <tr>\n",
       "      <th>4</th>\n",
       "      <td>203</td>\n",
       "      <td>Connecticut</td>\n",
       "      <td>223</td>\n",
       "      <td>90</td>\n",
       "      <td>56</td>\n",
       "      <td>29</td>\n",
       "      <td>1148</td>\n",
       "      <td>90</td>\n",
       "      <td>80</td>\n",
       "      <td>130</td>\n",
       "      <td>...</td>\n",
       "      <td>27</td>\n",
       "      <td>0</td>\n",
       "      <td>1</td>\n",
       "      <td>0</td>\n",
       "      <td>0</td>\n",
       "      <td>0</td>\n",
       "      <td>1</td>\n",
       "      <td>5.829596</td>\n",
       "      <td>5.147982</td>\n",
       "      <td>0</td>\n",
       "    </tr>\n",
       "  </tbody>\n",
       "</table>\n",
       "<p>5 rows × 28 columns</p>\n",
       "</div>"
      ],
      "text/plain": [
       "   Area Code        State  Sales  COGS  Total Expenses  Marketing  Inventory  \\\n",
       "0        203  Connecticut    292   116              69         38        962   \n",
       "1        203  Connecticut    225    90              60         29       1148   \n",
       "2        203  Connecticut    325   130              73         42       1134   \n",
       "3        203  Connecticut    289   115              69         37       1166   \n",
       "4        203  Connecticut    223    90              56         29       1148   \n",
       "\n",
       "   Budget Profit  Budget COGS  Budget Margin  ...  Non_Marketing_expense  \\\n",
       "0            110          110            160  ...                     31   \n",
       "1             90           80            130  ...                     31   \n",
       "2            130          110            180  ...                     31   \n",
       "3            110          100            160  ...                     32   \n",
       "4             90           80            130  ...                     27   \n",
       "\n",
       "   Market_Central Market_East Market_South Market_West  \\\n",
       "0               0           1            0           0   \n",
       "1               0           1            0           0   \n",
       "2               0           1            0           0   \n",
       "3               0           1            0           0   \n",
       "4               0           1            0           0   \n",
       "\n",
       "  Market Size_Major Market  Market Size_Small Market  sales_forcast_accuracy  \\\n",
       "0                        0                         1                7.534247   \n",
       "1                        0                         1                6.666667   \n",
       "2                        0                         1               10.769231   \n",
       "3                        0                         1               10.034602   \n",
       "4                        0                         1                5.829596   \n",
       "\n",
       "   stock_to_sales  Cluster_number  \n",
       "0        3.294521               0  \n",
       "1        5.102222               0  \n",
       "2        3.489231               0  \n",
       "3        4.034602               0  \n",
       "4        5.147982               0  \n",
       "\n",
       "[5 rows x 28 columns]"
      ]
     },
     "execution_count": 62,
     "metadata": {},
     "output_type": "execute_result"
    }
   ],
   "source": [
    "# First, let's attach cluster number column to each sale records in df_one_hot.\n",
    "\n",
    "df_cluster = pd.merge(df_one_hot,df5['Cluster_number'], on='ProductId', how='inner')\n",
    "df_cluster.head()"
   ]
  },
  {
   "cell_type": "code",
   "execution_count": 63,
   "id": "e33478c3-ebd1-4cf6-bd25-bb987d3816d9",
   "metadata": {},
   "outputs": [
    {
     "data": {
      "text/plain": [
       "Index(['Area Code', 'State', 'Sales', 'COGS', 'Total Expenses', 'Marketing',\n",
       "       'Inventory', 'Budget Profit', 'Budget COGS', 'Budget Margin',\n",
       "       'Budget Sales', 'ProductId', 'Date', 'Product Type', 'Product', 'Type',\n",
       "       'Margin_new', 'Profit_new', 'Non_Marketing_expense', 'Market_Central',\n",
       "       'Market_East', 'Market_South', 'Market_West',\n",
       "       'Market Size_Major Market', 'Market Size_Small Market',\n",
       "       'sales_forcast_accuracy', 'stock_to_sales', 'Cluster_number'],\n",
       "      dtype='object')"
      ]
     },
     "execution_count": 63,
     "metadata": {},
     "output_type": "execute_result"
    }
   ],
   "source": [
    "# Let's see what features are avaiable for us to work with\n",
    "df_cluster.columns"
   ]
  },
  {
   "cell_type": "markdown",
   "id": "67550262-3fa6-4143-8085-3d2ab6ffcced",
   "metadata": {},
   "source": [
    "## 8.1 Business Metrics"
   ]
  },
  {
   "cell_type": "markdown",
   "id": "993d5310-9a1d-4c3b-80a6-36769c86f32e",
   "metadata": {},
   "source": [
    "The general goal is to find the difference between clusters.  Here I'd like to calculate a few metrics for each clusters, and then compare them to the corresponding overall metric."
   ]
  },
  {
   "cell_type": "markdown",
   "id": "41652aca-5126-4d74-8a3d-8488cd623ead",
   "metadata": {},
   "source": [
    "### 8.1.1 Aggregate Sales Data to Cluster Level"
   ]
  },
  {
   "cell_type": "code",
   "execution_count": 64,
   "id": "94b9454f-2fc9-48d6-b0a2-50cf73d31925",
   "metadata": {},
   "outputs": [
    {
     "data": {
      "text/html": [
       "<div>\n",
       "<style scoped>\n",
       "    .dataframe tbody tr th:only-of-type {\n",
       "        vertical-align: middle;\n",
       "    }\n",
       "\n",
       "    .dataframe tbody tr th {\n",
       "        vertical-align: top;\n",
       "    }\n",
       "\n",
       "    .dataframe thead th {\n",
       "        text-align: right;\n",
       "    }\n",
       "</style>\n",
       "<table border=\"1\" class=\"dataframe\">\n",
       "  <thead>\n",
       "    <tr style=\"text-align: right;\">\n",
       "      <th></th>\n",
       "      <th>Sales</th>\n",
       "      <th>COGS</th>\n",
       "      <th>Marketing</th>\n",
       "      <th>Non_Marketing_expense</th>\n",
       "      <th>Profit_new</th>\n",
       "      <th>Inventory</th>\n",
       "      <th>Budget Sales</th>\n",
       "    </tr>\n",
       "    <tr>\n",
       "      <th>Cluster_number</th>\n",
       "      <th></th>\n",
       "      <th></th>\n",
       "      <th></th>\n",
       "      <th></th>\n",
       "      <th></th>\n",
       "      <th></th>\n",
       "      <th></th>\n",
       "    </tr>\n",
       "  </thead>\n",
       "  <tbody>\n",
       "    <tr>\n",
       "      <th>0</th>\n",
       "      <td>309141</td>\n",
       "      <td>127880</td>\n",
       "      <td>52912</td>\n",
       "      <td>36574</td>\n",
       "      <td>91775</td>\n",
       "      <td>1047518</td>\n",
       "      <td>297280</td>\n",
       "    </tr>\n",
       "    <tr>\n",
       "      <th>1</th>\n",
       "      <td>121909</td>\n",
       "      <td>58354</td>\n",
       "      <td>19184</td>\n",
       "      <td>14935</td>\n",
       "      <td>29436</td>\n",
       "      <td>471318</td>\n",
       "      <td>108680</td>\n",
       "    </tr>\n",
       "    <tr>\n",
       "      <th>2</th>\n",
       "      <td>355911</td>\n",
       "      <td>153360</td>\n",
       "      <td>53252</td>\n",
       "      <td>39698</td>\n",
       "      <td>109601</td>\n",
       "      <td>1405228</td>\n",
       "      <td>314860</td>\n",
       "    </tr>\n",
       "    <tr>\n",
       "      <th>3</th>\n",
       "      <td>32850</td>\n",
       "      <td>19078</td>\n",
       "      <td>7126</td>\n",
       "      <td>5981</td>\n",
       "      <td>665</td>\n",
       "      <td>259308</td>\n",
       "      <td>25340</td>\n",
       "    </tr>\n",
       "  </tbody>\n",
       "</table>\n",
       "</div>"
      ],
      "text/plain": [
       "                 Sales    COGS  Marketing  Non_Marketing_expense  Profit_new  \\\n",
       "Cluster_number                                                                 \n",
       "0               309141  127880      52912                  36574       91775   \n",
       "1               121909   58354      19184                  14935       29436   \n",
       "2               355911  153360      53252                  39698      109601   \n",
       "3                32850   19078       7126                   5981         665   \n",
       "\n",
       "                Inventory  Budget Sales  \n",
       "Cluster_number                           \n",
       "0                 1047518        297280  \n",
       "1                  471318        108680  \n",
       "2                 1405228        314860  \n",
       "3                  259308         25340  "
      ]
     },
     "execution_count": 64,
     "metadata": {},
     "output_type": "execute_result"
    }
   ],
   "source": [
    "df6 = df_cluster.groupby('Cluster_number')\\\n",
    "        [['Sales', 'COGS', 'Marketing', 'Non_Marketing_expense', 'Profit_new', 'Inventory', 'Budget Sales']].sum()\n",
    "df6"
   ]
  },
  {
   "cell_type": "markdown",
   "id": "88255d8a-4d8e-40f9-bc3e-2f8a5001c3aa",
   "metadata": {},
   "source": [
    "### 8.1.2 Average Sales"
   ]
  },
  {
   "cell_type": "code",
   "execution_count": 65,
   "id": "8700e937-76f8-456a-bb46-1cf0d8d228ce",
   "metadata": {},
   "outputs": [
    {
     "data": {
      "text/plain": [
       "Cluster_number\n",
       "0    214.681250\n",
       "1    181.412202\n",
       "2    192.592532\n",
       "3    114.062500\n",
       "Name: avg_sales, dtype: float64"
      ]
     },
     "execution_count": 65,
     "metadata": {},
     "output_type": "execute_result"
    }
   ],
   "source": [
    "df6['avg_sales'] = df_cluster[['Cluster_number','Sales']].groupby('Cluster_number').mean()\n",
    "df6['avg_sales'] \n",
    "# The average sales shows how much average value of sales was made per sale record in sales.csv\n",
    "# the larger, the better"
   ]
  },
  {
   "cell_type": "markdown",
   "id": "bf3dd6ff-ba4c-43d0-870d-10d30377d205",
   "metadata": {},
   "source": [
    "### 8.1.3 Index of Cluster Profit Rate"
   ]
  },
  {
   "cell_type": "code",
   "execution_count": 66,
   "id": "3af7f763-6826-4254-8ba9-826563aa768e",
   "metadata": {},
   "outputs": [
    {
     "data": {
      "text/plain": [
       "Cluster_number\n",
       "0    107.312146\n",
       "1     80.905854\n",
       "2    113.096346\n",
       "3      5.251510\n",
       "Name: index_profit_rate, dtype: float64"
      ]
     },
     "execution_count": 66,
     "metadata": {},
     "output_type": "execute_result"
    }
   ],
   "source": [
    "# Calculate profit_rate = Profit / (Sales - Profit) for both cluster and overall\n",
    "# Then divide cluster's profit_rate by overall profit_rate, multiplied by 100\n",
    "\n",
    "df6['index_profit_rate'] = (df6['Profit_new']/(df6['Sales']-df6['Profit_new']))*100/ \\\n",
    "                            (df6['Profit_new'].sum()/(df6['Sales'].sum()-df6['Profit_new'].sum()))\n",
    "df6['index_profit_rate']\n",
    "\n",
    "# The index shows how well a cluster can make profit compared to overall profit rate.\n",
    "# 100 means the overall average; higher than 100 means better than average and lower than 100 means worse than average."
   ]
  },
  {
   "cell_type": "markdown",
   "id": "48429d46-111a-42f9-9b55-182fd5ae1014",
   "metadata": {},
   "source": [
    "### 8.1.4 Index of Cluster Marketing Expense Rate"
   ]
  },
  {
   "cell_type": "code",
   "execution_count": 67,
   "id": "ed378a29-59eb-4a5a-8717-63c2ccd7fd65",
   "metadata": {},
   "outputs": [
    {
     "data": {
      "text/plain": [
       "Cluster_number\n",
       "0    105.920656\n",
       "1     97.383749\n",
       "2     92.592882\n",
       "3    134.243583\n",
       "Name: index_marketing_rate, dtype: float64"
      ]
     },
     "execution_count": 67,
     "metadata": {},
     "output_type": "execute_result"
    }
   ],
   "source": [
    "# Calculate Marketing Expense Rate = Marketing expense / Sales for both cluster and overall\n",
    "# Then divide cluster's Marketing Expense Rate by overall Marketing Expense Rate, multiplied by 100\n",
    "\n",
    "df6['index_marketing_rate'] = (df6['Marketing']/df6['Sales'])*100/(df6['Marketing'].sum()/df6['Sales'].sum())\n",
    "df6['index_marketing_rate']\n",
    "\n",
    "# The index shows how well a cluster's marketing expense perform compared to the overall marketing expense rate.\n",
    "# 100 means the overall average; higher than 100 means more than average and lower than 100 means less than average.\n",
    "# A lower index means the cluster is able to spend less and perform same.  In other words, spend same, and perform better."
   ]
  },
  {
   "cell_type": "markdown",
   "id": "5889bfc5-9d51-4dec-ba67-4d588f6566d2",
   "metadata": {},
   "source": [
    "### 8.1.5 Cluster Average Stock_to_Sales Ratio"
   ]
  },
  {
   "cell_type": "code",
   "execution_count": 68,
   "id": "1b18ae22-3df2-49d6-969d-1df1ad7e7df9",
   "metadata": {},
   "outputs": [
    {
     "data": {
      "text/plain": [
       "Cluster_number\n",
       "0     5.000839\n",
       "1     5.041557\n",
       "2     5.369154\n",
       "3    21.362865\n",
       "Name: cluster_avg_stock_to_sales, dtype: float64"
      ]
     },
     "execution_count": 68,
     "metadata": {},
     "output_type": "execute_result"
    }
   ],
   "source": [
    "# For each sale record, we have a stock_to_sales ratio;\n",
    "# Here we calcuated the average ratio on cluster level\n",
    "\n",
    "df6['cluster_avg_stock_to_sales'] = df_cluster[['Cluster_number','stock_to_sales']].groupby('Cluster_number').mean()\n",
    "df6['cluster_avg_stock_to_sales'] \n",
    "\n",
    "# The cluster ratio shows how well a cluster's products can sell.\n",
    "# Higher number means stores may have too many goods in stock."
   ]
  },
  {
   "cell_type": "markdown",
   "id": "36bf20f5-6165-4fb0-82a5-88faeb2e7912",
   "metadata": {},
   "source": [
    "### 8.1.6 Cluster Average Sales Forcasting Accuracy"
   ]
  },
  {
   "cell_type": "code",
   "execution_count": 69,
   "id": "6bad9687-6474-45d1-ab97-35f5c4bee1cb",
   "metadata": {},
   "outputs": [
    {
     "data": {
      "text/plain": [
       "Cluster_number\n",
       "0     6.261688\n",
       "1    11.398370\n",
       "2    10.549091\n",
       "3    25.503121\n",
       "Name: cluster_avg_sales_forcast_accuracy, dtype: float64"
      ]
     },
     "execution_count": 69,
     "metadata": {},
     "output_type": "execute_result"
    }
   ],
   "source": [
    "# For each sale record, we have a sales_forcast_accuracy describing how close the budget sales number is to acual sales number.\n",
    "# Here we calculated the average accuracy on cluster level\n",
    "\n",
    "df6['cluster_avg_sales_forcast_accuracy'] = df_cluster[['Cluster_number','sales_forcast_accuracy']].groupby('Cluster_number').mean()\n",
    "df6['cluster_avg_sales_forcast_accuracy'] \n",
    "\n",
    "# The cluster accuracy shows if the sales prediction is aligned with actual sales.\n",
    "# The closer it's to 0, the better and more accurate the budget sales is."
   ]
  },
  {
   "cell_type": "markdown",
   "id": "71df43e4-0b20-40c3-9895-6452fd1f3a6d",
   "metadata": {},
   "source": [
    "## 8.2 Product Profiling Details"
   ]
  },
  {
   "cell_type": "markdown",
   "id": "cb769102-4186-49f8-aa1c-596a58bab1f0",
   "metadata": {},
   "source": [
    "### 8.2.1 Product Significant Features Identify"
   ]
  },
  {
   "cell_type": "code",
   "execution_count": 70,
   "id": "f9777580-28d4-4729-bbda-6f440ed88c77",
   "metadata": {},
   "outputs": [
    {
     "data": {
      "text/plain": [
       "Index(['Sales', 'COGS', 'Marketing', 'Non_Marketing_expense', 'Profit_new',\n",
       "       'Inventory', 'Budget Sales', 'avg_sales', 'index_profit_rate',\n",
       "       'index_marketing_rate', 'cluster_avg_stock_to_sales',\n",
       "       'cluster_avg_sales_forcast_accuracy'],\n",
       "      dtype='object')"
      ]
     },
     "execution_count": 70,
     "metadata": {},
     "output_type": "execute_result"
    }
   ],
   "source": [
    "df6.columns"
   ]
  },
  {
   "cell_type": "code",
   "execution_count": 71,
   "id": "0c41aeda-3930-4d3e-9d00-d75490857abe",
   "metadata": {},
   "outputs": [
    {
     "data": {
      "text/html": [
       "<div>\n",
       "<style scoped>\n",
       "    .dataframe tbody tr th:only-of-type {\n",
       "        vertical-align: middle;\n",
       "    }\n",
       "\n",
       "    .dataframe tbody tr th {\n",
       "        vertical-align: top;\n",
       "    }\n",
       "\n",
       "    .dataframe thead th {\n",
       "        text-align: right;\n",
       "    }\n",
       "</style>\n",
       "<table border=\"1\" class=\"dataframe\">\n",
       "  <thead>\n",
       "    <tr style=\"text-align: right;\">\n",
       "      <th></th>\n",
       "      <th>Sales</th>\n",
       "      <th>avg_sales</th>\n",
       "      <th>index_profit_rate</th>\n",
       "      <th>index_marketing_rate</th>\n",
       "      <th>cluster_avg_stock_to_sales</th>\n",
       "      <th>cluster_avg_sales_forcast_accuracy</th>\n",
       "    </tr>\n",
       "    <tr>\n",
       "      <th>Cluster_number</th>\n",
       "      <th></th>\n",
       "      <th></th>\n",
       "      <th></th>\n",
       "      <th></th>\n",
       "      <th></th>\n",
       "      <th></th>\n",
       "    </tr>\n",
       "  </thead>\n",
       "  <tbody>\n",
       "    <tr>\n",
       "      <th>0</th>\n",
       "      <td>309141</td>\n",
       "      <td>214.681250</td>\n",
       "      <td>107.312146</td>\n",
       "      <td>105.920656</td>\n",
       "      <td>5.000839</td>\n",
       "      <td>6.261688</td>\n",
       "    </tr>\n",
       "    <tr>\n",
       "      <th>1</th>\n",
       "      <td>121909</td>\n",
       "      <td>181.412202</td>\n",
       "      <td>80.905854</td>\n",
       "      <td>97.383749</td>\n",
       "      <td>5.041557</td>\n",
       "      <td>11.398370</td>\n",
       "    </tr>\n",
       "    <tr>\n",
       "      <th>2</th>\n",
       "      <td>355911</td>\n",
       "      <td>192.592532</td>\n",
       "      <td>113.096346</td>\n",
       "      <td>92.592882</td>\n",
       "      <td>5.369154</td>\n",
       "      <td>10.549091</td>\n",
       "    </tr>\n",
       "    <tr>\n",
       "      <th>3</th>\n",
       "      <td>32850</td>\n",
       "      <td>114.062500</td>\n",
       "      <td>5.251510</td>\n",
       "      <td>134.243583</td>\n",
       "      <td>21.362865</td>\n",
       "      <td>25.503121</td>\n",
       "    </tr>\n",
       "  </tbody>\n",
       "</table>\n",
       "</div>"
      ],
      "text/plain": [
       "                 Sales   avg_sales  index_profit_rate  index_marketing_rate  \\\n",
       "Cluster_number                                                                \n",
       "0               309141  214.681250         107.312146            105.920656   \n",
       "1               121909  181.412202          80.905854             97.383749   \n",
       "2               355911  192.592532         113.096346             92.592882   \n",
       "3                32850  114.062500           5.251510            134.243583   \n",
       "\n",
       "                cluster_avg_stock_to_sales  cluster_avg_sales_forcast_accuracy  \n",
       "Cluster_number                                                                  \n",
       "0                                 5.000839                            6.261688  \n",
       "1                                 5.041557                           11.398370  \n",
       "2                                 5.369154                           10.549091  \n",
       "3                                21.362865                           25.503121  "
      ]
     },
     "execution_count": 71,
     "metadata": {},
     "output_type": "execute_result"
    }
   ],
   "source": [
    "df7 = df6.drop(['COGS', 'Marketing', 'Non_Marketing_expense', 'Profit_new','Inventory', 'Budget Sales'], axis = 1)\n",
    "df7"
   ]
  },
  {
   "cell_type": "markdown",
   "id": "1832d6c1-a4b6-4c14-9d38-79b0bd03953c",
   "metadata": {},
   "source": [
    "Still too many numbers, let's try something more intuitive.\n",
    "Here we use heatmap to highlight the difference between clsuters."
   ]
  },
  {
   "cell_type": "code",
   "execution_count": 72,
   "id": "55ab3fd4-f299-4afc-a657-d7030bcb9692",
   "metadata": {},
   "outputs": [
    {
     "name": "stdout",
     "output_type": "stream",
     "text": [
      "Scaled Dataset Using MinMaxScaler\n"
     ]
    },
    {
     "data": {
      "text/html": [
       "<div>\n",
       "<style scoped>\n",
       "    .dataframe tbody tr th:only-of-type {\n",
       "        vertical-align: middle;\n",
       "    }\n",
       "\n",
       "    .dataframe tbody tr th {\n",
       "        vertical-align: top;\n",
       "    }\n",
       "\n",
       "    .dataframe thead th {\n",
       "        text-align: right;\n",
       "    }\n",
       "</style>\n",
       "<table border=\"1\" class=\"dataframe\">\n",
       "  <thead>\n",
       "    <tr style=\"text-align: right;\">\n",
       "      <th></th>\n",
       "      <th>Sales</th>\n",
       "      <th>avg_sales</th>\n",
       "      <th>index_profit_rate</th>\n",
       "      <th>index_marketing_rate</th>\n",
       "      <th>cluster_avg_stock_to_sales</th>\n",
       "      <th>cluster_avg_sales_forcast_accuracy</th>\n",
       "    </tr>\n",
       "    <tr>\n",
       "      <th>Cluster_number</th>\n",
       "      <th></th>\n",
       "      <th></th>\n",
       "      <th></th>\n",
       "      <th></th>\n",
       "      <th></th>\n",
       "      <th></th>\n",
       "    </tr>\n",
       "  </thead>\n",
       "  <tbody>\n",
       "    <tr>\n",
       "      <th>0</th>\n",
       "      <td>0.855229</td>\n",
       "      <td>1.000000</td>\n",
       "      <td>0.946366</td>\n",
       "      <td>0.319989</td>\n",
       "      <td>0.000000</td>\n",
       "      <td>0.000000</td>\n",
       "    </tr>\n",
       "    <tr>\n",
       "      <th>1</th>\n",
       "      <td>0.275672</td>\n",
       "      <td>0.669355</td>\n",
       "      <td>0.701511</td>\n",
       "      <td>0.115025</td>\n",
       "      <td>0.002489</td>\n",
       "      <td>0.266959</td>\n",
       "    </tr>\n",
       "    <tr>\n",
       "      <th>2</th>\n",
       "      <td>1.000000</td>\n",
       "      <td>0.780471</td>\n",
       "      <td>1.000000</td>\n",
       "      <td>0.000000</td>\n",
       "      <td>0.022510</td>\n",
       "      <td>0.222821</td>\n",
       "    </tr>\n",
       "    <tr>\n",
       "      <th>3</th>\n",
       "      <td>0.000000</td>\n",
       "      <td>0.000000</td>\n",
       "      <td>0.000000</td>\n",
       "      <td>1.000000</td>\n",
       "      <td>1.000000</td>\n",
       "      <td>1.000000</td>\n",
       "    </tr>\n",
       "  </tbody>\n",
       "</table>\n",
       "</div>"
      ],
      "text/plain": [
       "                   Sales  avg_sales  index_profit_rate  index_marketing_rate  \\\n",
       "Cluster_number                                                                 \n",
       "0               0.855229   1.000000           0.946366              0.319989   \n",
       "1               0.275672   0.669355           0.701511              0.115025   \n",
       "2               1.000000   0.780471           1.000000              0.000000   \n",
       "3               0.000000   0.000000           0.000000              1.000000   \n",
       "\n",
       "                cluster_avg_stock_to_sales  cluster_avg_sales_forcast_accuracy  \n",
       "Cluster_number                                                                  \n",
       "0                                 0.000000                            0.000000  \n",
       "1                                 0.002489                            0.266959  \n",
       "2                                 0.022510                            0.222821  \n",
       "3                                 1.000000                            1.000000  "
      ]
     },
     "execution_count": 72,
     "metadata": {},
     "output_type": "execute_result"
    }
   ],
   "source": [
    "# Since columns have difference scale, we need to scale to the same level first.\n",
    "\n",
    "# define min max scaler\n",
    "scaler2 = MinMaxScaler()\n",
    "df7_scaled = pd.DataFrame(scaler2.fit_transform(df7), index = df7.index, columns=df7.columns)\n",
    "\n",
    "print(\"Scaled Dataset Using MinMaxScaler\")\n",
    "df7_scaled"
   ]
  },
  {
   "cell_type": "code",
   "execution_count": 73,
   "id": "6a6d145f-ebf3-48c5-830f-0cb9ea8e7965",
   "metadata": {},
   "outputs": [
    {
     "data": {
      "text/plain": [
       "(array([0.5, 1.5, 2.5, 3.5]),\n",
       " [Text(0, 0.5, '0'), Text(0, 1.5, '1'), Text(0, 2.5, '2'), Text(0, 3.5, '3')])"
      ]
     },
     "execution_count": 73,
     "metadata": {},
     "output_type": "execute_result"
    },
    {
     "data": {
      "image/png": "[encoded data removed]",
      "text/plain": [
       "<Figure size 720x360 with 2 Axes>"
      ]
     },
     "metadata": {
      "needs_background": "light"
     },
     "output_type": "display_data"
    }
   ],
   "source": [
    "# Plot heatmap to see which feature separate clusters\n",
    "\n",
    "plt.figure(figsize=(10,5))\n",
    "plt.xticks(rotation=45)\n",
    "sns.heatmap(df7_scaled, annot=True)\n",
    "plt.xticks(rotation=40)\n",
    "plt.yticks(rotation=0)"
   ]
  },
  {
   "cell_type": "markdown",
   "id": "684e3f00-3592-4577-8fab-ed2a962a55e6",
   "metadata": {},
   "source": [
    "\n",
    "First of all, Cluster 3 is very differenct from other clusters.  It's very easy to separate it from others. \\\n",
    "\\\n",
    "Secondly, Cluster 1 can be differentiated by the first variable, `Sales`, due to its relatively small sales. \\\n",
    "\\\n",
    "Thirdly, with close `Sales` and `Profit_Rate`, Cluster 0 and Cluster 2 seem to be in the same position.  However, `index_marketing_rate` tells us that Cluster0 had to spend more money on marketing to achieve the similar sales and profit performance compared to Cluster 2. \\\n",
    "</bar>\n"
   ]
  },
  {
   "cell_type": "markdown",
   "id": "f80f16d9-c7bc-4330-8f3d-1b9cc5f2725b",
   "metadata": {},
   "source": [
    "### 8.2.2 Cluster Summary"
   ]
  },
  {
   "cell_type": "code",
   "execution_count": 74,
   "id": "74d8ffe2-ae3f-49a9-9793-ea14da48c1b0",
   "metadata": {},
   "outputs": [
    {
     "name": "stdout",
     "output_type": "stream",
     "text": [
      "Cluster 0 has Regular Columbian, Regular Caffe Mocha, Decaf Lemon.\n",
      "Cluster 1 has Regular Amaretto, Regular Caffe Latte, Regular Regular Espresso, Decaf Mint.\n",
      "Cluster 2 has Decaf Decaf Irish Cream, Decaf Decaf Espresso, Decaf Chamomile, Regular Darjeeling, Regular Earl Grey.\n",
      "Cluster 3 has Regular Green Tea.\n"
     ]
    }
   ],
   "source": [
    "# List all names and types of products assigned to each cluster\n",
    "\n",
    "df8 = pd.merge(df5,product, on='ProductId',how='inner')\n",
    "df8['Product_Name'] = df8[['Type', 'Product']].agg(' '.join, axis=1)\n",
    "df_product = df8.groupby('Cluster_number').apply(lambda x: ', '.join(x.Product_Name))\n",
    "\n",
    "print('Cluster {} has {}.'.format('0',df_product[0]))\n",
    "print('Cluster {} has {}.'.format('1',df_product[1]))\n",
    "print('Cluster {} has {}.'.format('2',df_product[2]))\n",
    "print('Cluster {} has {}.'.format('3',df_product[3]))"
   ]
  },
  {
   "cell_type": "markdown",
   "id": "d330fcb6-0479-4269-85aa-a1b596ee43a2",
   "metadata": {},
   "source": [
    "#### Cluster 0"
   ]
  },
  {
   "cell_type": "markdown",
   "id": "5b880a83-3107-4e24-b1c8-47490d259056",
   "metadata": {},
   "source": [
    "Cluster 0 contains Product 2, 5 and 9.  \\\n",
    "Regular Columbian, Regular Caffe Mocha, Decaf Lemon \\\n",
    "This cluster is very robust with large `Sales` and strong profitability. Stores managed budget very well, which means the performance is on track.  The only thing is that this cluster spent more expense on marketing to keep its performance."
   ]
  },
  {
   "cell_type": "markdown",
   "id": "c3cf59f7-f1f4-4fbe-b141-66bd9eb2ed3e",
   "metadata": {},
   "source": [
    "#### Cluster 1"
   ]
  },
  {
   "cell_type": "markdown",
   "id": "5e56f499-53fa-4c22-96dc-f57027bac629",
   "metadata": {},
   "source": [
    "Cluster 1 contains Product 1, 4, 7 and 10. \\\n",
    "Regular Amaretto, Regular Caffe Latte, Regular Espresso, Decaf Mint \\\n",
    "This cluster is not as good as cluster 0 and 2. The performance is at a average level except profit rate. This cluster is sruggling with expenses, which can be averaged down when they sell more.   Stores need to find a way to sell more to reduce average cost and increase profit_rate."
   ]
  },
  {
   "cell_type": "markdown",
   "id": "a5dd035f-4e90-401d-8eec-adce0ef8fa93",
   "metadata": {},
   "source": [
    "#### Cluster 2"
   ]
  },
  {
   "cell_type": "markdown",
   "id": "42498d7a-90f2-4f98-9b6a-44339d6dc8d3",
   "metadata": {},
   "source": [
    "Cluster 2 contains Product 3, 6, 8, 11 and 12. \\\n",
    "Decaf Decaf Irish Cream, Decaf Decaf Espresso, Decaf Chamomile, Regular Darjeeling, Regular Earl Grey \\\n",
    "This cluster is the best cluster compared to other three.  It has the largest `Sales`, the highest profit rate and less marketing expense rate.  In other words, products in this cluster spent less but sold really well."
   ]
  },
  {
   "cell_type": "markdown",
   "id": "4335c37f-ae50-4fe4-84f8-cfa1f689afb2",
   "metadata": {},
   "source": [
    "#### Cluster 3"
   ]
  },
  {
   "cell_type": "markdown",
   "id": "d12692b8-008f-4ee7-afef-645ae7c2d84b",
   "metadata": {},
   "source": [
    "Cluster 3 contains Product 13. \\\n",
    "Regular Green Tea \\\n",
    "This cluster is the worst cluster.  It has the lowest sales number and highest marketing expense rate.  The profit rate is supposed to be an outperformer with so much marketing expense rate; however, its profit is far off.  What makes it even worse, stores thought it would sell well (based on sales_forcast_accuracy), so they might have too much inventory ( based on stock_to_sales ratio).  "
   ]
  },
  {
   "cell_type": "markdown",
   "id": "d53b7d8f-b243-422e-b051-aa7690072707",
   "metadata": {},
   "source": [
    "# 9. Further Strategies"
   ]
  },
  {
   "cell_type": "markdown",
   "id": "3307b506-4a22-4ecf-abf2-1fd1eed60e32",
   "metadata": {},
   "source": [
    "Now here is strategy time!  With 13 products divided into 4 clusters, it's important to give further business strategies to fulfill the last step of Product Profiling in Cluster Analysis."
   ]
  },
  {
   "cell_type": "markdown",
   "id": "2c59437a-da67-4e89-946a-8fd65f39eaab",
   "metadata": {},
   "source": [
    "For Cluster 0, overall performance is good.  But the marketing expense is not as helpful as expected.  It may need further market test with slight lower marketing expense to reduce the cost.  If `Sales` stays the same, then we don't need to spend as much as before on Marketing.  In this way, we improve the profit rate.\n",
    "\n",
    "Cluster 1's problem is the total `Sales`.  The average sales is close to other clusters.  But due to low total `Sales`, the cost of these products had not been diluted.  The strategy is to expand markets to sell more.  Increasing marketing expense may help.\n",
    "\n",
    "Cluster 2 is a strong performer with high sales and high profitability.  These products may need to have some programs to keep existing customers.\n",
    "\n",
    "Cluster 3 has a red flag.  Apprently, the `Sales` didn't go well as the budget.  Plus, the cost and expense are also hight.  That's why profit rate is so low. Before we cut it,  we may want to try to bundle it with other popular products to save marketing expense and sell more.  And an alternative source may help get a lower price point.  If none of these work, then we have to drop this product."
   ]
  },
  {
   "cell_type": "code",
   "execution_count": null,
   "id": "0a203493-abaf-4c28-8403-a35eecb2a3b3",
   "metadata": {},
   "outputs": [],
   "source": []
  }
 ],
 "metadata": {
  "kernelspec": {
   "display_name": "Python 3 (ipykernel)",
   "language": "python",
   "name": "python3"
  },
  "language_info": {
   "codemirror_mode": {
    "name": "ipython",
    "version": 3
   },
   "file_extension": ".py",
   "mimetype": "text/x-python",
   "name": "python",
   "nbconvert_exporter": "python",
   "pygments_lexer": "ipython3",
   "version": "3.9.2"
  }
 },
 "nbformat": 4,
 "nbformat_minor": 5
}
